{
  "nbformat": 4,
  "nbformat_minor": 0,
  "metadata": {
    "colab": {
      "provenance": [],
      "toc_visible": true,
      "authorship_tag": "ABX9TyPSAtnGuCL0AsDYXW8DncrE"
    },
    "kernelspec": {
      "name": "python3",
      "display_name": "Python 3"
    },
    "language_info": {
      "name": "python"
    }
  },
  "cells": [
    {
      "cell_type": "markdown",
      "source": [
        "# **Belajar Python**\n",
        "\n",
        "04 - Operator\n",
        "\n",
        "[![Open In Colab](https://colab.research.google.com/assets/colab-badge.svg)](https://colab.research.google.com/drive/1F9zBnbAb5SRdRkBy63SZ6UYEtyDyda8K?usp=sharing)\n",
        "\n",
        "*Oleh : Sinubi*"
      ],
      "metadata": {
        "id": "R1D5WtIhI915"
      }
    },
    {
      "cell_type": "markdown",
      "source": [
        "## Oeprator Aritmatika"
      ],
      "metadata": {
        "id": "YuJU8AG3iBxR"
      }
    },
    {
      "cell_type": "markdown",
      "source": [
        "Operator | Keterangan | Contoh\n",
        "--- | --- | ---\n",
        "+ | Penjumlahan | x + y\n",
        "- | Pengurangan | x - y\n",
        "* | Perkalian | x * y\n",
        "/ | Pembagian | x / y\n",
        "// | Pembagian Lantai atau Pembagian dengan Pembulatan ke Bawah | x // y\n",
        "% | Modulus atau Sisa Pembagian | x % y\n",
        "** | Eksponen atau Pemangkatan | x ** y"
      ],
      "metadata": {
        "id": "bvy5tjokiMel"
      }
    },
    {
      "cell_type": "code",
      "source": [
        "# Contoh Operator Penjumlahan\n",
        "\n",
        "x = 7\n",
        "y = 3\n",
        "\n",
        "print(x + y)"
      ],
      "metadata": {
        "colab": {
          "base_uri": "https://localhost:8080/"
        },
        "id": "prfxhZCAiDqR",
        "outputId": "b455a46e-6fde-4001-d643-d3aca90da1b7"
      },
      "execution_count": null,
      "outputs": [
        {
          "output_type": "stream",
          "name": "stdout",
          "text": [
            "10\n"
          ]
        }
      ]
    },
    {
      "cell_type": "code",
      "source": [
        "# Contoh Operator Pengurangan\n",
        "\n",
        "x = 7\n",
        "y = 3\n",
        "\n",
        "print(x - y)"
      ],
      "metadata": {
        "colab": {
          "base_uri": "https://localhost:8080/"
        },
        "id": "f1HeaGiij_bx",
        "outputId": "9c61a61e-4b33-4c79-a802-5075e69dbeb0"
      },
      "execution_count": null,
      "outputs": [
        {
          "output_type": "stream",
          "name": "stdout",
          "text": [
            "4\n"
          ]
        }
      ]
    },
    {
      "cell_type": "code",
      "source": [
        "# Contoh Operator Perkalian\n",
        "\n",
        "x = 7\n",
        "y = 3\n",
        "\n",
        "print(x * y)"
      ],
      "metadata": {
        "colab": {
          "base_uri": "https://localhost:8080/"
        },
        "id": "YKkF8vxNkF3Z",
        "outputId": "121dedd4-205e-4f08-e94b-9999cd2b047c"
      },
      "execution_count": null,
      "outputs": [
        {
          "output_type": "stream",
          "name": "stdout",
          "text": [
            "21\n"
          ]
        }
      ]
    },
    {
      "cell_type": "code",
      "source": [
        "# Contoh Operator Pembagian\n",
        "\n",
        "x = 7\n",
        "y = 3\n",
        "\n",
        "print(x / y)"
      ],
      "metadata": {
        "colab": {
          "base_uri": "https://localhost:8080/"
        },
        "id": "nmW4k251kwpM",
        "outputId": "1087b052-a6b4-46b4-da5e-575ca6050241"
      },
      "execution_count": null,
      "outputs": [
        {
          "output_type": "stream",
          "name": "stdout",
          "text": [
            "2.3333333333333335\n"
          ]
        }
      ]
    },
    {
      "cell_type": "code",
      "source": [
        "# Contoh Operator Pembagian Lantai\n",
        "x = 7\n",
        "y = 3\n",
        "\n",
        "print(x // y)"
      ],
      "metadata": {
        "colab": {
          "base_uri": "https://localhost:8080/"
        },
        "id": "s3HOZkzfk9Dh",
        "outputId": "dfcf001f-2e84-448d-ed88-096c275e9a71"
      },
      "execution_count": null,
      "outputs": [
        {
          "output_type": "stream",
          "name": "stdout",
          "text": [
            "2\n"
          ]
        }
      ]
    },
    {
      "cell_type": "code",
      "source": [
        "# Contoh Operator Modulus\n",
        "\n",
        "x = 7\n",
        "y = 3\n",
        "\n",
        "print(x % y)"
      ],
      "metadata": {
        "colab": {
          "base_uri": "https://localhost:8080/"
        },
        "id": "VGAHRc29k6qK",
        "outputId": "f8155f44-9fc7-473b-84f3-d925dd5a1550"
      },
      "execution_count": null,
      "outputs": [
        {
          "output_type": "stream",
          "name": "stdout",
          "text": [
            "1\n"
          ]
        }
      ]
    },
    {
      "cell_type": "code",
      "source": [
        "# Contoh Operator Eksponen\n",
        "\n",
        "x = 7\n",
        "y = 3\n",
        "\n",
        "print(x ** y)"
      ],
      "metadata": {
        "colab": {
          "base_uri": "https://localhost:8080/"
        },
        "id": "iCUCa222lG7j",
        "outputId": "4435b23e-e6e5-457f-90eb-77ef6fdfbee4"
      },
      "execution_count": null,
      "outputs": [
        {
          "output_type": "stream",
          "name": "stdout",
          "text": [
            "343\n"
          ]
        }
      ]
    },
    {
      "cell_type": "markdown",
      "source": [
        "## Oeprator *Assignment* atau Pemberian Nilai"
      ],
      "metadata": {
        "id": "Hgnt5KGtlPEv"
      }
    },
    {
      "cell_type": "markdown",
      "source": [
        "Operator | Keterangan | Contoh | Sama Dengan\n",
        "--- | --- | --- | ---\n",
        "= | *Assignment* atau Pemberian Nilai | x = 3 | x = 3\n",
        "+= | *Addition Assignment* atau Pemberian Nilai dengan Penambahan | x += 3 | x = x + 3\n",
        "-= | *Subtraction Assignment* atau Pemberian Nilai dengan Pengurangan | x -= 3 | x = x - 3\n",
        "*= | *Multiplication Assignment* atau Pemberian Nilai dengan Perkalian | x *= 3 | x = x * 3\n",
        "/= | *Division Assignment* atau Pemberian Nilai dengan Pembagian | x /= 3 | x = x / 3\n",
        "//= | *Floor Division Assignment* atau Pemberian Nilai dengan Pembagian Lantai | x //= 3 | x = x // 3\n",
        "% | *Remainder Assignment* atau Pemberian Nilai Hasil Bagi | x %= 3 | x = x % 3\n",
        "** | *Exponent Assignment* atau Pemberian Nilai Hasil Pemangkatan | x **= 3 | x = x ** 3"
      ],
      "metadata": {
        "id": "MQBj1KBUmJ2f"
      }
    },
    {
      "cell_type": "code",
      "source": [
        "# Contoh Operator Assignment\n",
        "\n",
        "x = 7\n",
        "\n",
        "print(x)"
      ],
      "metadata": {
        "colab": {
          "base_uri": "https://localhost:8080/"
        },
        "id": "6wtjpOUXopSj",
        "outputId": "099e6b97-91a0-4244-bc20-5dc0dd1d73b4"
      },
      "execution_count": null,
      "outputs": [
        {
          "output_type": "stream",
          "name": "stdout",
          "text": [
            "7\n"
          ]
        }
      ]
    },
    {
      "cell_type": "code",
      "source": [
        "# Contoh Operator Addition Assignment\n",
        "\n",
        "x = 7\n",
        "x += 3\n",
        "\n",
        "print(x)"
      ],
      "metadata": {
        "colab": {
          "base_uri": "https://localhost:8080/"
        },
        "id": "Zcl0uM9jovkm",
        "outputId": "b8770589-7c18-468e-ea5b-e97a0a3b862b"
      },
      "execution_count": null,
      "outputs": [
        {
          "output_type": "stream",
          "name": "stdout",
          "text": [
            "10\n"
          ]
        }
      ]
    },
    {
      "cell_type": "code",
      "source": [
        "# Contoh Operator Subtraction Assignment\n",
        "\n",
        "x = 7\n",
        "x -= 3\n",
        "\n",
        "print(x)"
      ],
      "metadata": {
        "colab": {
          "base_uri": "https://localhost:8080/"
        },
        "id": "gw3Q34TEo4De",
        "outputId": "b6143bee-3503-47c7-c92b-2be867136ea2"
      },
      "execution_count": null,
      "outputs": [
        {
          "output_type": "stream",
          "name": "stdout",
          "text": [
            "4\n"
          ]
        }
      ]
    },
    {
      "cell_type": "code",
      "source": [
        "# Contoh Operator Multiplication Assignment\n",
        "\n",
        "x = 7\n",
        "x *= 3\n",
        "\n",
        "print(x)"
      ],
      "metadata": {
        "colab": {
          "base_uri": "https://localhost:8080/"
        },
        "id": "hLpvepdyo7Xn",
        "outputId": "6a8084c2-6ad9-4cff-eabc-85febe4359d1"
      },
      "execution_count": null,
      "outputs": [
        {
          "output_type": "stream",
          "name": "stdout",
          "text": [
            "21\n"
          ]
        }
      ]
    },
    {
      "cell_type": "code",
      "source": [
        "# Contoh Operator Division Assignment\n",
        "\n",
        "x = 7\n",
        "x /= 3\n",
        "\n",
        "print(x)"
      ],
      "metadata": {
        "colab": {
          "base_uri": "https://localhost:8080/"
        },
        "id": "sQU6bxEzo72u",
        "outputId": "7e76bced-3f28-42bb-84ca-a9af54383145"
      },
      "execution_count": null,
      "outputs": [
        {
          "output_type": "stream",
          "name": "stdout",
          "text": [
            "2.3333333333333335\n"
          ]
        }
      ]
    },
    {
      "cell_type": "code",
      "source": [
        "# Contoh Operator Floor Division Assignment\n",
        "\n",
        "x = 7\n",
        "x //= 3\n",
        "\n",
        "print(x)"
      ],
      "metadata": {
        "colab": {
          "base_uri": "https://localhost:8080/"
        },
        "id": "F6j5X1OYpBCb",
        "outputId": "b147cea7-d09b-4f59-e132-7d691ada6a2f"
      },
      "execution_count": null,
      "outputs": [
        {
          "output_type": "stream",
          "name": "stdout",
          "text": [
            "2\n"
          ]
        }
      ]
    },
    {
      "cell_type": "code",
      "source": [
        "# Contoh Operator Remainder Assignment\n",
        "\n",
        "x = 7\n",
        "x %= 3\n",
        "\n",
        "print(x)"
      ],
      "metadata": {
        "colab": {
          "base_uri": "https://localhost:8080/"
        },
        "id": "byH2McY0pE9I",
        "outputId": "9df023fe-dfb8-4bdb-e81c-04b18e520680"
      },
      "execution_count": null,
      "outputs": [
        {
          "output_type": "stream",
          "name": "stdout",
          "text": [
            "1\n"
          ]
        }
      ]
    },
    {
      "cell_type": "code",
      "source": [
        "# Contoh Operator Exponent Assignment\n",
        "\n",
        "x = 7\n",
        "x **= 3\n",
        "\n",
        "print(x)"
      ],
      "metadata": {
        "colab": {
          "base_uri": "https://localhost:8080/"
        },
        "id": "5OrDJ129pJhU",
        "outputId": "ae751f9d-2469-4a0f-ac44-e841425b2eac"
      },
      "execution_count": null,
      "outputs": [
        {
          "output_type": "stream",
          "name": "stdout",
          "text": [
            "343\n"
          ]
        }
      ]
    },
    {
      "cell_type": "markdown",
      "source": [
        "## Operator Perbandingan"
      ],
      "metadata": {
        "id": "wwbD2k20p47F"
      }
    },
    {
      "cell_type": "markdown",
      "source": [
        "Operator | Keterangan | Contoh\n",
        "--- | --- | ---\n",
        "== | Sama dengan : Mengeluarkan Nilai `True` apabila Kedua Operand bernilai Sama  | x == y\n",
        "!= | Tidak Sama dengan : Mengeluarkan Nilai `True` apabila Kedua Operand memiliki Nilai yang Berbeda atau Tidak Sama  | x != y\n",
        "> | Lebih Besar dari : Mengeluarkan Nilai `True` apabila Operand Kiri bernilai Lebih Besar daripada Operand Kanan  | x > y\n",
        "< | Lebih Kecil dari : Mengeluarkan Nilai `True` apabila Operand Kiri bernilai Lebih Kecil daripada Operand Kanan  | x < y\n",
        ">= | Lebih Besar dari atau Sama dengan : Mengeluarkan Nilai `True` apabila Operand Kiri Lebih Besar atau Sama dengan Operand Kanan | x >= y\n",
        "<= | Lebih Besar dari atau Sama dengan : Mengeluarkan Nilai `True` apabila Operand Kiri bernilai Lebih Kecil atau Sama dengan Operand Kanan | x <= y"
      ],
      "metadata": {
        "id": "_ZyDM6uep81u"
      }
    },
    {
      "cell_type": "markdown",
      "source": [
        "### Contoh Operator `==` (Sama dengan)"
      ],
      "metadata": {
        "id": "pYqKz0vmnldN"
      }
    },
    {
      "cell_type": "code",
      "source": [
        "# Contoh Operator Perbandingan (Sama dengan) - Contoh 1\n",
        "\n",
        "x = 7\n",
        "y = 3\n",
        "\n",
        "print(x == y)"
      ],
      "metadata": {
        "colab": {
          "base_uri": "https://localhost:8080/"
        },
        "id": "A-e18svNCNXZ",
        "outputId": "ca9465bd-5c0f-4ef0-c75e-61e8f7ed4643"
      },
      "execution_count": null,
      "outputs": [
        {
          "output_type": "stream",
          "name": "stdout",
          "text": [
            "False\n"
          ]
        }
      ]
    },
    {
      "cell_type": "code",
      "source": [
        "# Contoh Operator Perbandingan (Sama dengan) - Contoh 2\n",
        "\n",
        "x = 7\n",
        "y = 7\n",
        "\n",
        "print(x == y)"
      ],
      "metadata": {
        "colab": {
          "base_uri": "https://localhost:8080/"
        },
        "id": "GEek2s8TCaH5",
        "outputId": "07c65c52-39a3-46a8-f92a-93e4a83e69eb"
      },
      "execution_count": null,
      "outputs": [
        {
          "output_type": "stream",
          "name": "stdout",
          "text": [
            "True\n"
          ]
        }
      ]
    },
    {
      "cell_type": "markdown",
      "source": [
        "### Contoh Operator `!=` (Tidak Sama dengan)"
      ],
      "metadata": {
        "id": "yuilb-d6nrAq"
      }
    },
    {
      "cell_type": "code",
      "source": [
        "# Contoh Operator Perbandingan (Tidak Sama dengan) - Contoh 1\n",
        "\n",
        "x = 7\n",
        "y = 3\n",
        "\n",
        "print(x != y)"
      ],
      "metadata": {
        "colab": {
          "base_uri": "https://localhost:8080/"
        },
        "id": "ZuaQO_GoCck_",
        "outputId": "18a954f2-6677-4ea0-8ff6-f06faebab7ba"
      },
      "execution_count": null,
      "outputs": [
        {
          "output_type": "stream",
          "name": "stdout",
          "text": [
            "True\n"
          ]
        }
      ]
    },
    {
      "cell_type": "code",
      "source": [
        "# Contoh Operator Perbandingan (Tidak Sama dengan) - Contoh 2\n",
        "\n",
        "x = 7\n",
        "y = 7\n",
        "\n",
        "print(x != y)"
      ],
      "metadata": {
        "colab": {
          "base_uri": "https://localhost:8080/"
        },
        "id": "RU1lUTfZCfsf",
        "outputId": "5d1d36ef-b8d7-4f57-be59-c5b40adb77b6"
      },
      "execution_count": null,
      "outputs": [
        {
          "output_type": "stream",
          "name": "stdout",
          "text": [
            "False\n"
          ]
        }
      ]
    },
    {
      "cell_type": "markdown",
      "source": [
        "### Contoh Operator `>` (Lebih Besar dari)"
      ],
      "metadata": {
        "id": "vpFMfhIgnuXG"
      }
    },
    {
      "cell_type": "code",
      "source": [
        "# Contoh Operator Perbandingan (Lebih Besar dari) - Contoh 1\n",
        "\n",
        "x = 7\n",
        "y = 3\n",
        "\n",
        "print(x > y)"
      ],
      "metadata": {
        "colab": {
          "base_uri": "https://localhost:8080/"
        },
        "id": "tF2hmuK8Ckv8",
        "outputId": "8fc1f3c7-a3e3-4f8c-8bfd-0d8263d44fa0"
      },
      "execution_count": null,
      "outputs": [
        {
          "output_type": "stream",
          "name": "stdout",
          "text": [
            "True\n"
          ]
        }
      ]
    },
    {
      "cell_type": "code",
      "source": [
        "# Contoh Operator Perbandingan (Lebih Besar dari) - Contoh 2\n",
        "\n",
        "x = 3\n",
        "y = 7\n",
        "\n",
        "print(x > y)"
      ],
      "metadata": {
        "colab": {
          "base_uri": "https://localhost:8080/"
        },
        "id": "wher8eJmCwpr",
        "outputId": "3d312eb7-8671-4d37-b23a-21e49df3853d"
      },
      "execution_count": null,
      "outputs": [
        {
          "output_type": "stream",
          "name": "stdout",
          "text": [
            "False\n"
          ]
        }
      ]
    },
    {
      "cell_type": "markdown",
      "source": [
        "### Contoh Operator `<` (Lebih Kecil dari)"
      ],
      "metadata": {
        "id": "mKNvDhyanxue"
      }
    },
    {
      "cell_type": "code",
      "source": [
        "# Contoh Operator Perbandingan (Lebih Kecil dari) - Contoh 1\n",
        "\n",
        "x = 7\n",
        "y = 3\n",
        "\n",
        "print(x < y)"
      ],
      "metadata": {
        "colab": {
          "base_uri": "https://localhost:8080/"
        },
        "id": "hf6s6gTtCr5t",
        "outputId": "815cd0d5-4381-48a9-ad1e-3de44b9c0744"
      },
      "execution_count": null,
      "outputs": [
        {
          "output_type": "stream",
          "name": "stdout",
          "text": [
            "False\n"
          ]
        }
      ]
    },
    {
      "cell_type": "code",
      "source": [
        "# Contoh Operator Perbandingan (Lebih Kecil dari) - Contoh 2\n",
        "\n",
        "x = 3\n",
        "y = 7\n",
        "\n",
        "print(x < y)"
      ],
      "metadata": {
        "colab": {
          "base_uri": "https://localhost:8080/"
        },
        "id": "KIBf3yS2C0t3",
        "outputId": "a5cb0e44-6200-4ef6-efdb-5f21881655e1"
      },
      "execution_count": null,
      "outputs": [
        {
          "output_type": "stream",
          "name": "stdout",
          "text": [
            "True\n"
          ]
        }
      ]
    },
    {
      "cell_type": "markdown",
      "source": [
        "### Contoh Operator `>=` (Lebih Besar dari atau Sama dengan)"
      ],
      "metadata": {
        "id": "rHAMZmPDn3pR"
      }
    },
    {
      "cell_type": "code",
      "source": [
        "# Contoh Operator Perbandingan (Lebih Besar dari atau Sama dengan) - Contoh 1\n",
        "\n",
        "x = 7\n",
        "y = 3\n",
        "\n",
        "print(x >= y)"
      ],
      "metadata": {
        "colab": {
          "base_uri": "https://localhost:8080/"
        },
        "id": "6VcZjBxByzsn",
        "outputId": "ea2344e8-82e6-4076-c527-ac1e3f32fd4c"
      },
      "execution_count": null,
      "outputs": [
        {
          "output_type": "stream",
          "name": "stdout",
          "text": [
            "True\n"
          ]
        }
      ]
    },
    {
      "cell_type": "code",
      "source": [
        "# Contoh Operator Perbandingan (Lebih Besar dari atau Sama dengan) - Contoh 2\n",
        "\n",
        "x = 3\n",
        "y = 7\n",
        "\n",
        "print(x >= y)"
      ],
      "metadata": {
        "colab": {
          "base_uri": "https://localhost:8080/"
        },
        "id": "1vSSxGJly2sQ",
        "outputId": "35019461-1a27-4ec3-c385-29e829b55265"
      },
      "execution_count": null,
      "outputs": [
        {
          "output_type": "stream",
          "name": "stdout",
          "text": [
            "False\n"
          ]
        }
      ]
    },
    {
      "cell_type": "code",
      "source": [
        "# Contoh Operator Perbandingan (Lebih Besar dari atau Sama dengan) - Contoh 2\n",
        "\n",
        "x = 3\n",
        "y = 3\n",
        "\n",
        "print(x >= y)"
      ],
      "metadata": {
        "colab": {
          "base_uri": "https://localhost:8080/"
        },
        "id": "vVkk0wvVzFze",
        "outputId": "a6e7206f-8fc0-4cb3-cfa3-1fcd2e120798"
      },
      "execution_count": null,
      "outputs": [
        {
          "output_type": "stream",
          "name": "stdout",
          "text": [
            "True\n"
          ]
        }
      ]
    },
    {
      "cell_type": "markdown",
      "source": [
        "### Contoh Operator `<=` (Lebih Kecil dari atau Sama dengan)"
      ],
      "metadata": {
        "id": "lhZNPJDEn8i3"
      }
    },
    {
      "cell_type": "code",
      "source": [
        "# Contoh Operator Perbandingan (Lebih Kecil dari atau Sama dengan) - Contoh 1\n",
        "\n",
        "x = 7\n",
        "y = 3\n",
        "\n",
        "print(x <= y)"
      ],
      "metadata": {
        "colab": {
          "base_uri": "https://localhost:8080/"
        },
        "id": "nxRxLWEUzJn8",
        "outputId": "097befc9-6e55-45ba-cc76-77c59a8be0a1"
      },
      "execution_count": null,
      "outputs": [
        {
          "output_type": "stream",
          "name": "stdout",
          "text": [
            "False\n"
          ]
        }
      ]
    },
    {
      "cell_type": "code",
      "source": [
        "# Contoh Operator Perbandingan (Lebih Kecil dari atau Sama dengan) - Contoh 2\n",
        "\n",
        "x = 3\n",
        "y = 7\n",
        "\n",
        "print(x <= y)"
      ],
      "metadata": {
        "colab": {
          "base_uri": "https://localhost:8080/"
        },
        "id": "s0f3b5MLzMMO",
        "outputId": "ab9438a2-4ca8-4b0e-dae4-9b572d41ee37"
      },
      "execution_count": null,
      "outputs": [
        {
          "output_type": "stream",
          "name": "stdout",
          "text": [
            "True\n"
          ]
        }
      ]
    },
    {
      "cell_type": "code",
      "source": [
        "# Contoh Operator Perbandingan (Lebih Kecil dari atau Sama dengan) - Contoh 2\n",
        "\n",
        "x = 3\n",
        "y = 3\n",
        "\n",
        "print(x <= y)"
      ],
      "metadata": {
        "colab": {
          "base_uri": "https://localhost:8080/"
        },
        "id": "vXbskd0NzPFJ",
        "outputId": "a16eacf1-6033-43e6-b842-6037e8ebfa04"
      },
      "execution_count": null,
      "outputs": [
        {
          "output_type": "stream",
          "name": "stdout",
          "text": [
            "True\n"
          ]
        }
      ]
    },
    {
      "cell_type": "markdown",
      "source": [
        "## Operator Logika"
      ],
      "metadata": {
        "id": "CmCSrtyV6QT6"
      }
    },
    {
      "cell_type": "markdown",
      "source": [
        "Operator | Keterangan | Contoh\n",
        "--- | --- | ---\n",
        "and | Mengeluarkan Nilai `True` apabila Kedua Operand/Statement bernilai `True` | x and y\n",
        "or | Mengeluarkan Nilai `True` apabila Setidaknya Salah Satu dari Operand/Statement bernilai `True` | x or y\n",
        "not | Mengeluarkan Nilai `True` apabila Operand/Statement bernilai `False` dan Sebaliknya | not x"
      ],
      "metadata": {
        "id": "V9mVJVfxjemw"
      }
    },
    {
      "cell_type": "markdown",
      "source": [
        "**Tabel Kebenaran 'AND'**\n",
        "\n",
        "x | y | x and y\n",
        "--- | --- | ---\n",
        "`True` | `True` | `True`\n",
        "`True` | `False` | `False`\n",
        "`False` | `True` | `False`\n",
        "`False` | `False` | `False`"
      ],
      "metadata": {
        "id": "Or9byfxNleJ0"
      }
    },
    {
      "cell_type": "markdown",
      "source": [
        "**Tabel Kebenaran 'OR'**\n",
        "\n",
        "x | y | x or y\n",
        "--- | --- | ---\n",
        "`True` | `True` | `True`\n",
        "`True` | `False` | `True`\n",
        "`False` | `True` | `True`\n",
        "`False` | `False` | `False`"
      ],
      "metadata": {
        "id": "IcsfFjkCl1Xl"
      }
    },
    {
      "cell_type": "markdown",
      "source": [
        "**Tabel Kebenaran 'NOT'**\n",
        "\n",
        "x | not x\n",
        "--- | ---\n",
        "`True` | `False`\n",
        "`False` | `True`"
      ],
      "metadata": {
        "id": "FVxDJKUml59G"
      }
    },
    {
      "cell_type": "markdown",
      "source": [
        "### Contoh Operator `and`"
      ],
      "metadata": {
        "id": "nWU_Yr77nBQL"
      }
    },
    {
      "cell_type": "code",
      "source": [
        "# Contoh Operator And - Contoh 1\n",
        "\n",
        "x = True\n",
        "y = True\n",
        "\n",
        "print(x and y)"
      ],
      "metadata": {
        "colab": {
          "base_uri": "https://localhost:8080/"
        },
        "id": "lOKcYU4mjZbd",
        "outputId": "38d52dc7-5851-4e12-df91-43e62ffe4928"
      },
      "execution_count": null,
      "outputs": [
        {
          "output_type": "stream",
          "name": "stdout",
          "text": [
            "True\n"
          ]
        }
      ]
    },
    {
      "cell_type": "code",
      "source": [
        "# Contoh Operator And - Contoh 2\n",
        "\n",
        "x = True\n",
        "y = False\n",
        "\n",
        "print(x and y)"
      ],
      "metadata": {
        "colab": {
          "base_uri": "https://localhost:8080/"
        },
        "id": "cNrbQGNvmD2r",
        "outputId": "fae170b4-d805-407f-ba48-d50cd90ac78f"
      },
      "execution_count": null,
      "outputs": [
        {
          "output_type": "stream",
          "name": "stdout",
          "text": [
            "False\n"
          ]
        }
      ]
    },
    {
      "cell_type": "code",
      "source": [
        "# Contoh Operator And - Contoh 3\n",
        "\n",
        "x = False\n",
        "y = False\n",
        "\n",
        "print(x and y)"
      ],
      "metadata": {
        "colab": {
          "base_uri": "https://localhost:8080/"
        },
        "id": "01-AWOp1mD96",
        "outputId": "d0e0f555-85a8-485f-e777-52d8206703b8"
      },
      "execution_count": null,
      "outputs": [
        {
          "output_type": "stream",
          "name": "stdout",
          "text": [
            "False\n"
          ]
        }
      ]
    },
    {
      "cell_type": "code",
      "source": [
        "# Contoh Operator And - Contoh 4\n",
        "\n",
        "x = 5\n",
        "y = 3\n",
        "\n",
        "print(x < 7 and y > 2)"
      ],
      "metadata": {
        "colab": {
          "base_uri": "https://localhost:8080/"
        },
        "id": "Z2mR0V7wmIf0",
        "outputId": "ef255547-56f9-41c0-c783-83c8a6af68da"
      },
      "execution_count": null,
      "outputs": [
        {
          "output_type": "stream",
          "name": "stdout",
          "text": [
            "True\n"
          ]
        }
      ]
    },
    {
      "cell_type": "code",
      "source": [
        "# Contoh Operator And - Contoh 5\n",
        "\n",
        "x = 5\n",
        "y = 3\n",
        "\n",
        "print(x == 7 and y > 2)"
      ],
      "metadata": {
        "colab": {
          "base_uri": "https://localhost:8080/"
        },
        "id": "AbWzNn87mQvF",
        "outputId": "12df1ce3-615e-4140-fecd-1c5fc2b190b5"
      },
      "execution_count": null,
      "outputs": [
        {
          "output_type": "stream",
          "name": "stdout",
          "text": [
            "False\n"
          ]
        }
      ]
    },
    {
      "cell_type": "markdown",
      "source": [
        "### Contoh Operator `or`"
      ],
      "metadata": {
        "id": "9MayMIxtnEB_"
      }
    },
    {
      "cell_type": "code",
      "source": [
        "# Contoh Operator Or - Contoh 1\n",
        "\n",
        "x = True\n",
        "y = True\n",
        "\n",
        "print(x or y)"
      ],
      "metadata": {
        "colab": {
          "base_uri": "https://localhost:8080/"
        },
        "id": "n8myKNKWmazM",
        "outputId": "254771c6-7805-4c5a-c854-67744cfec28c"
      },
      "execution_count": null,
      "outputs": [
        {
          "output_type": "stream",
          "name": "stdout",
          "text": [
            "True\n"
          ]
        }
      ]
    },
    {
      "cell_type": "code",
      "source": [
        "# Contoh Operator Or - Contoh 2\n",
        "\n",
        "x = True\n",
        "y = False\n",
        "\n",
        "print(x or y)"
      ],
      "metadata": {
        "id": "Ei95DB5GmeJ_"
      },
      "execution_count": null,
      "outputs": []
    },
    {
      "cell_type": "code",
      "source": [
        "# Contoh Operator Or - Contoh 3\n",
        "\n",
        "x = False\n",
        "y = False\n",
        "\n",
        "print(x or y)"
      ],
      "metadata": {
        "colab": {
          "base_uri": "https://localhost:8080/"
        },
        "id": "FH2VSELKmgsY",
        "outputId": "ab95b7f4-0560-4f51-db02-115e1d4de18c"
      },
      "execution_count": null,
      "outputs": [
        {
          "output_type": "stream",
          "name": "stdout",
          "text": [
            "False\n"
          ]
        }
      ]
    },
    {
      "cell_type": "code",
      "source": [
        "# Contoh Operator Or - Contoh 4\n",
        "\n",
        "x = 5\n",
        "y = 3\n",
        "\n",
        "print(x < 7 or y > 2)"
      ],
      "metadata": {
        "colab": {
          "base_uri": "https://localhost:8080/"
        },
        "id": "6aIEZrDvmjVV",
        "outputId": "e8e17b26-4077-448f-d5cf-769df69a76ee"
      },
      "execution_count": null,
      "outputs": [
        {
          "output_type": "stream",
          "name": "stdout",
          "text": [
            "True\n"
          ]
        }
      ]
    },
    {
      "cell_type": "code",
      "source": [
        "# Contoh Operator Or - Contoh 5\n",
        "\n",
        "x = 5\n",
        "y = 3\n",
        "\n",
        "print(x == 7 or y > 2)"
      ],
      "metadata": {
        "colab": {
          "base_uri": "https://localhost:8080/"
        },
        "id": "rcJR8qfUmomO",
        "outputId": "e84cdb3b-7c3e-4c9c-a78b-0b8af30b411c"
      },
      "execution_count": null,
      "outputs": [
        {
          "output_type": "stream",
          "name": "stdout",
          "text": [
            "True\n"
          ]
        }
      ]
    },
    {
      "cell_type": "markdown",
      "source": [
        "### Contoh Operator `not`"
      ],
      "metadata": {
        "id": "6IcfquWFnHpc"
      }
    },
    {
      "cell_type": "code",
      "source": [
        "# Contoh Operator Not - Contoh 1\n",
        "\n",
        "x = True\n",
        "\n",
        "print(not x)"
      ],
      "metadata": {
        "colab": {
          "base_uri": "https://localhost:8080/"
        },
        "id": "8X2Y0mPYnJjj",
        "outputId": "51fb10ec-058c-482c-a688-48e313154f9d"
      },
      "execution_count": null,
      "outputs": [
        {
          "output_type": "stream",
          "name": "stdout",
          "text": [
            "False\n"
          ]
        }
      ]
    },
    {
      "cell_type": "code",
      "source": [
        "# Contoh Operator Not - Contoh 2\n",
        "\n",
        "x = False\n",
        "\n",
        "print(not x)"
      ],
      "metadata": {
        "colab": {
          "base_uri": "https://localhost:8080/"
        },
        "id": "6BHOWhAunM3-",
        "outputId": "9bcd695b-09e8-4eb9-f206-c7e7e2f5bcf7"
      },
      "execution_count": null,
      "outputs": [
        {
          "output_type": "stream",
          "name": "stdout",
          "text": [
            "True\n"
          ]
        }
      ]
    },
    {
      "cell_type": "code",
      "source": [
        "# Contoh Operator Not - Contoh 3\n",
        "\n",
        "x = 5\n",
        "\n",
        "print(not x < 7)"
      ],
      "metadata": {
        "colab": {
          "base_uri": "https://localhost:8080/"
        },
        "id": "SoYt0XbcnPjM",
        "outputId": "b1a0a4e9-0743-4a0b-b30c-3a57026e9c1d"
      },
      "execution_count": null,
      "outputs": [
        {
          "output_type": "stream",
          "name": "stdout",
          "text": [
            "False\n"
          ]
        }
      ]
    },
    {
      "cell_type": "code",
      "source": [
        "# Contoh Operator Not - Contoh 4\n",
        "\n",
        "x = 5\n",
        "\n",
        "print(not x > 7)"
      ],
      "metadata": {
        "colab": {
          "base_uri": "https://localhost:8080/"
        },
        "id": "mYTjAFienS7-",
        "outputId": "ae34f36a-ecad-45c8-ce05-55ef63586392"
      },
      "execution_count": null,
      "outputs": [
        {
          "output_type": "stream",
          "name": "stdout",
          "text": [
            "True\n"
          ]
        }
      ]
    },
    {
      "cell_type": "markdown",
      "source": [
        "## Operator Identitas"
      ],
      "metadata": {
        "id": "ZUXTJYs6wcU6"
      }
    },
    {
      "cell_type": "markdown",
      "source": [
        "Operator | Keterangan | Contoh\n",
        "--- | --- | ---\n",
        "is | Mengeluarkan Nilai `True` apabila Kedua Variabel merupakan Objek yang Sama | x is y\n",
        "is not | Mengeluarkan Nilai `True` apabila Kedua Variabel merupakan Objek yang Berbeda | x is not y"
      ],
      "metadata": {
        "id": "QXZRooqmwiCs"
      }
    },
    {
      "cell_type": "code",
      "source": [
        "# Contoh Operator Is\n",
        "\n",
        "x = ['budi','ani','tono']\n",
        "y = ['putri','putra','ayu']\n",
        "z = x\n",
        "\n",
        "print(id(x))\n",
        "print(id(y))\n",
        "print(id(z))\n",
        "\n",
        "print(x is y)\n",
        "print(x is z)"
      ],
      "metadata": {
        "colab": {
          "base_uri": "https://localhost:8080/"
        },
        "id": "UFFWTRebwu8-",
        "outputId": "6d0e5ae0-c2e8-4115-c269-7455b655c49a"
      },
      "execution_count": null,
      "outputs": [
        {
          "output_type": "stream",
          "name": "stdout",
          "text": [
            "135932745630592\n",
            "135932354898624\n",
            "135932745630592\n",
            "False\n",
            "True\n"
          ]
        }
      ]
    },
    {
      "cell_type": "markdown",
      "source": [
        "Perhatikan bahwa x dan z merujuk pada Objek yang Sama (Id Objeknya Sama)"
      ],
      "metadata": {
        "id": "e5USRPB0xOe1"
      }
    },
    {
      "cell_type": "code",
      "source": [
        "# Contoh Operator Is Not\n",
        "\n",
        "x = ['budi','ani','tono']\n",
        "y = ['putri','putra','ayu']\n",
        "z = x\n",
        "\n",
        "print(id(x))\n",
        "print(id(y))\n",
        "print(id(z))\n",
        "\n",
        "print(x is not y)\n",
        "print(x is not z)"
      ],
      "metadata": {
        "colab": {
          "base_uri": "https://localhost:8080/"
        },
        "id": "Sdg5Dvx4xYZe",
        "outputId": "b017e24e-caca-4676-8159-87925ef6c941"
      },
      "execution_count": null,
      "outputs": [
        {
          "output_type": "stream",
          "name": "stdout",
          "text": [
            "135932339891136\n",
            "135932358761920\n",
            "135932339891136\n",
            "True\n",
            "False\n"
          ]
        }
      ]
    },
    {
      "cell_type": "markdown",
      "source": [
        "## Operator Keanggotaan"
      ],
      "metadata": {
        "id": "dy9hFYCLxf37"
      }
    },
    {
      "cell_type": "markdown",
      "source": [
        "Operator | Keterangan | Contoh\n",
        "--- | --- | ---\n",
        "in | Mengeluarkan Nilai `True` apabila Sebuah Elemen Terdapat pada Suatu Objek | x in y\n",
        "not in | Mengeluarkan Nilai `True` apabila Sebuah Elemen Tidak Terdapat pada Suatu Objek | x not in y"
      ],
      "metadata": {
        "id": "YlQPzjfGzRxD"
      }
    },
    {
      "cell_type": "code",
      "source": [
        "# Contoh Operator In - Contoh 1\n",
        "\n",
        "x = 'budi'\n",
        "y = ['budi','ani','tono']\n",
        "\n",
        "print(x in y)"
      ],
      "metadata": {
        "colab": {
          "base_uri": "https://localhost:8080/"
        },
        "id": "c5Y2cfkdxkZ0",
        "outputId": "0ba1e0ad-7a42-44ee-9057-a9d73179f22b"
      },
      "execution_count": null,
      "outputs": [
        {
          "output_type": "stream",
          "name": "stdout",
          "text": [
            "True\n"
          ]
        }
      ]
    },
    {
      "cell_type": "code",
      "source": [
        "# Contoh Operator In - Contoh 2\n",
        "\n",
        "x = 'ayu'\n",
        "y = ['budi','ani','tono']\n",
        "\n",
        "print(x in y)"
      ],
      "metadata": {
        "colab": {
          "base_uri": "https://localhost:8080/"
        },
        "id": "tfWm3VDtz-Ra",
        "outputId": "d52bec89-b1da-4829-cb53-cec2552a18f7"
      },
      "execution_count": null,
      "outputs": [
        {
          "output_type": "stream",
          "name": "stdout",
          "text": [
            "False\n"
          ]
        }
      ]
    },
    {
      "cell_type": "code",
      "source": [
        "# Contoh Operator Not In - Contoh 1\n",
        "\n",
        "x = 'budi'\n",
        "y = ['budi','ani','tono']\n",
        "\n",
        "print(x not in y)"
      ],
      "metadata": {
        "colab": {
          "base_uri": "https://localhost:8080/"
        },
        "id": "Qnfxp3270nGM",
        "outputId": "946231e6-0c3c-43f8-9a72-deef1a52a7ca"
      },
      "execution_count": null,
      "outputs": [
        {
          "output_type": "stream",
          "name": "stdout",
          "text": [
            "False\n"
          ]
        }
      ]
    },
    {
      "cell_type": "code",
      "source": [
        "# Contoh Operator Not In - Contoh 2\n",
        "\n",
        "x = 'ayu'\n",
        "y = ['budi','ani','tono']\n",
        "\n",
        "print(x not in y)"
      ],
      "metadata": {
        "colab": {
          "base_uri": "https://localhost:8080/"
        },
        "id": "_jV_BLOv0phD",
        "outputId": "4b937c3b-afc9-4d71-a88b-b92acf9143dd"
      },
      "execution_count": null,
      "outputs": [
        {
          "output_type": "stream",
          "name": "stdout",
          "text": [
            "True\n"
          ]
        }
      ]
    },
    {
      "cell_type": "markdown",
      "source": [
        "# Referensi Eksternal\n",
        "\n",
        "*   https://www.w3schools.com/python/python_operators.asp\n",
        "*   https://www.digitalocean.com/community/tutorials/python-operators\n",
        "*   https://www.geeksforgeeks.org/python-operators/?ref=lbp\n",
        "*   https://www.programiz.com/python-programming/operators\n",
        "\n",
        "\n",
        "\n",
        "\n",
        "\n"
      ],
      "metadata": {
        "id": "SYZ4fIy7JI2s"
      }
    }
  ]
}
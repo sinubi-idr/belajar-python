{
  "nbformat": 4,
  "nbformat_minor": 0,
  "metadata": {
    "colab": {
      "provenance": [],
      "toc_visible": true,
      "authorship_tag": "ABX9TyM9D/IhFVaIs2xoLh1p1fbe"
    },
    "kernelspec": {
      "name": "python3",
      "display_name": "Python 3"
    },
    "language_info": {
      "name": "python"
    }
  },
  "cells": [
    {
      "cell_type": "markdown",
      "source": [
        "# **Belajar Python**\n",
        "\n",
        "02 - Variabel\n",
        "\n",
        "[![Open In Colab](https://colab.research.google.com/assets/colab-badge.svg)](https://colab.research.google.com/drive/1GhGdXiQwoIUC2rzz--ChUApEk_t2R-QB?usp=sharing)\n",
        "\n",
        "*Oleh : Sinubi*"
      ],
      "metadata": {
        "id": "dNEvVRJv1V06"
      }
    },
    {
      "cell_type": "markdown",
      "source": [
        "## Membuat dan Memberi Nilai pada Variabel\n",
        "\n",
        "Variabel dapat dikatakan sebagai sebuah wadah untuk menampung suatu nilai. Variabel mempunyai nama serta nilai. Pemberian nilai pada variabel dapat dilakukan dengan operator `=`."
      ],
      "metadata": {
        "id": "tWPPmaH51lfv"
      }
    },
    {
      "cell_type": "code",
      "execution_count": null,
      "metadata": {
        "colab": {
          "base_uri": "https://localhost:8080/"
        },
        "id": "-bOSKeJn1Oj0",
        "outputId": "b05d0966-057f-42a6-b084-d2d8983bb681"
      },
      "outputs": [
        {
          "output_type": "stream",
          "name": "stdout",
          "text": [
            "Sinubi\n"
          ]
        }
      ],
      "source": [
        "# Contoh Variabel dengan Nilai berupa Teks (dengan petik tunggal)\n",
        "nama = 'Sinubi'\n",
        "\n",
        "print(nama)"
      ]
    },
    {
      "cell_type": "code",
      "source": [
        "# Contoh Variabel dengan Nilai berupa Teks (dengan petik ganda)\n",
        "jurusan = \"Informatika\"\n",
        "\n",
        "print(jurusan)"
      ],
      "metadata": {
        "colab": {
          "base_uri": "https://localhost:8080/"
        },
        "id": "smjPDiYr3eqL",
        "outputId": "76d1aee1-8d2a-4cf1-c11f-edc9a9504658"
      },
      "execution_count": null,
      "outputs": [
        {
          "output_type": "stream",
          "name": "stdout",
          "text": [
            "Informatika\n"
          ]
        }
      ]
    },
    {
      "cell_type": "markdown",
      "source": [
        "Perhatikan bahwa kita mengapit teks dengan tanda petik tunggal (bisa juga tanda petik ganda) untuk memberi nilai pada variabel nama dan jurusan.\n",
        "\n",
        "**Contoh 1**\n",
        "*   Nama Variabel : nama\n",
        "*   Nilai Variabel : Sinubi\n",
        "\n",
        "**Contoh 2**\n",
        "*   Nama Variabel : jurusan\n",
        "*   Nilai Variabel : Informatika\n",
        "\n"
      ],
      "metadata": {
        "id": "PpfYPdYp2S5Z"
      }
    },
    {
      "cell_type": "code",
      "source": [
        "# Contoh Variabel dengan Nilai berupa Angka/Bilangan Bulat\n",
        "umur = 21\n",
        "\n",
        "print(umur)"
      ],
      "metadata": {
        "colab": {
          "base_uri": "https://localhost:8080/"
        },
        "id": "IviMf8s72LQ3",
        "outputId": "080e6285-f53c-4fcc-d2a2-7c070a3678ef"
      },
      "execution_count": null,
      "outputs": [
        {
          "output_type": "stream",
          "name": "stdout",
          "text": [
            "21\n"
          ]
        }
      ]
    },
    {
      "cell_type": "markdown",
      "source": [
        "Perhatikan bahwa tidak diperlukan tanda petik tunggal maupun ganda untuk memberi nilai angka untuk variabel umur.\n",
        "\n",
        "*   Nama Variabel : umur\n",
        "*   Nilai Variabel : 21\n",
        "\n"
      ],
      "metadata": {
        "id": "GGgmmS9O2txj"
      }
    },
    {
      "cell_type": "markdown",
      "source": [
        "## Melihat Tipe Data dari Variabel\n",
        "\n",
        "Fungsi `type()` dapat digunakan untuk melihat tipe data dari suatu variabel"
      ],
      "metadata": {
        "id": "so7RqWqF4eJP"
      }
    },
    {
      "cell_type": "code",
      "source": [
        "# Contoh Variabel dengan Nilai Teks\n",
        "nama = 'Sinubi'\n",
        "\n",
        "type(nama)"
      ],
      "metadata": {
        "colab": {
          "base_uri": "https://localhost:8080/"
        },
        "id": "Br0QcLsK4qH5",
        "outputId": "106e0dd3-69a6-46d7-ed05-034e213f9918"
      },
      "execution_count": null,
      "outputs": [
        {
          "output_type": "execute_result",
          "data": {
            "text/plain": [
              "str"
            ]
          },
          "metadata": {},
          "execution_count": 4
        }
      ]
    },
    {
      "cell_type": "markdown",
      "source": [
        "Variabel 'nama' dengan nilai 'Sinubi' merupakan variabel bertipe *string* (str)."
      ],
      "metadata": {
        "id": "QNs9JhdD4xBr"
      }
    },
    {
      "cell_type": "code",
      "source": [
        "# Contoh Variabel dengan Nilai Angka/Bilangan Bulat\n",
        "umur = 21\n",
        "\n",
        "type(umur)"
      ],
      "metadata": {
        "colab": {
          "base_uri": "https://localhost:8080/"
        },
        "id": "iXobyNXh49CY",
        "outputId": "eac9da8a-5d3b-4a10-a12f-b5f522ccba19"
      },
      "execution_count": null,
      "outputs": [
        {
          "output_type": "execute_result",
          "data": {
            "text/plain": [
              "int"
            ]
          },
          "metadata": {},
          "execution_count": 5
        }
      ]
    },
    {
      "cell_type": "markdown",
      "source": [
        "Variabel 'umur' dengan nilai '21' merupakan variabel bertipe *integer* (int)."
      ],
      "metadata": {
        "id": "QCLnkhCO5Ru6"
      }
    },
    {
      "cell_type": "markdown",
      "source": [
        "## Mengubah Nilai dari Variabel\n",
        "\n",
        "Nilai dari suatu variabel (khusus untuk variabel *mutabale*) dapat diubah. Nilai variabel mengacu pada nilai terakhir yang telah diberikan."
      ],
      "metadata": {
        "id": "LZfGkt625dsX"
      }
    },
    {
      "cell_type": "code",
      "source": [
        "# Contoh Pengubahan Nilai Variabel\n",
        "nama = 'Sinubi'\n",
        "nama = 'Pemula'\n",
        "\n",
        "print(nama)"
      ],
      "metadata": {
        "colab": {
          "base_uri": "https://localhost:8080/"
        },
        "id": "ddkFOsfe571K",
        "outputId": "31042c92-b69a-4020-efd6-d310d277051f"
      },
      "execution_count": null,
      "outputs": [
        {
          "output_type": "stream",
          "name": "stdout",
          "text": [
            "Pemula\n"
          ]
        }
      ]
    },
    {
      "cell_type": "markdown",
      "source": [
        "Pertama-tama, kita memberi nilai pada variabel 'nama' dengan teks 'Sinubi'. Kemudian, kita kembali memberi nilai pada variabel 'nama' dengan teks 'Pemula'. Maka, nilai dari variabel 'nama' mengacu pada nilai pemberian terakhir yaitu 'Pemula'."
      ],
      "metadata": {
        "id": "BOr9fdJm6FZt"
      }
    },
    {
      "cell_type": "markdown",
      "source": [
        "## *Case Sensitive*\n",
        "\n",
        "Penggunaan huruf besar dan kecil sangat berpengaruh terhadap penamaan variabel."
      ],
      "metadata": {
        "id": "VA_e5jnu7FQ8"
      }
    },
    {
      "cell_type": "code",
      "source": [
        "nama = 'Sinubi'\n",
        "Nama = 'Pemula'\n",
        "\n",
        "print(nama)\n",
        "print(Nama)"
      ],
      "metadata": {
        "colab": {
          "base_uri": "https://localhost:8080/"
        },
        "id": "JqWVP4nO9P1o",
        "outputId": "c46af4de-c1e3-4c23-fed7-1d44b33239b9"
      },
      "execution_count": null,
      "outputs": [
        {
          "output_type": "stream",
          "name": "stdout",
          "text": [
            "Sinubi\n",
            "Pemula\n"
          ]
        }
      ]
    },
    {
      "cell_type": "markdown",
      "source": [
        "Perhatikan bahwa penggunaan huruf besar membuat variabel 'Nama' tidak sama dengan variabel 'nama'."
      ],
      "metadata": {
        "id": "z42lkkwJ9fCr"
      }
    },
    {
      "cell_type": "markdown",
      "source": [
        "## Aturan Penamaan Variabel\n",
        "\n",
        "*   Nama Variabel harus diawali dengan karakter huruf atau garis bawah\n",
        "*   Nama Variabel tidak boleh diawali dengan angka\n",
        "*   Nama Variabel hanya boleh terdiri dari karakter huruf (huruf besar/kecil), angka (0 sampai dengan 9), dan garis bawah\n",
        "\n",
        "\n",
        "\n"
      ],
      "metadata": {
        "id": "hcePJzQqAqM2"
      }
    },
    {
      "cell_type": "markdown",
      "source": [
        "Nama Variabel | Boleh/Tidak Boleh\n",
        "--- | ---\n",
        "nama = \"Sinubi\" | Boleh\n",
        "nama_siswa = \"Sinubi\" | Boleh\n",
        "_nama = \"Sinubi\" | Boleh\n",
        "namaSiswa = \"Sinubi\" | Boleh\n",
        "NAMA = \"Sinubi\" | Boleh\n",
        "nama2 = \"Pemula\" | Boleh\n",
        "2nama = \"Pemula\" | Tidak Boleh\n",
        "nama-siswa = \"Sinubi\" | Tidak Boleh\n",
        "nama siswa = \"Sinubi\" | Tidak Boleh"
      ],
      "metadata": {
        "id": "4mYzWW-NBRgY"
      }
    },
    {
      "cell_type": "markdown",
      "source": [
        "## Memberi Nilai pada Suatu Variabel dari Masukan Pengguna atau *User*\n",
        "\n",
        "*User* atau Pengguna dapat memberi nilai pada suatu variabel dengan menggunakan fungsi `input()`."
      ],
      "metadata": {
        "id": "n0sQSjd29yz1"
      }
    },
    {
      "cell_type": "code",
      "source": [
        "# Jalankan cell ini dan kemudian ketikkan sebuah nama lalu tekan enter\n",
        "nama_masukan_user = input()\n",
        "\n",
        "print('Nama Anda adalah ' + nama_masukan_user)"
      ],
      "metadata": {
        "colab": {
          "base_uri": "https://localhost:8080/"
        },
        "id": "jMYfPZTR-JhV",
        "outputId": "67947b77-2ae7-45e9-f1ad-b4daecc8d475"
      },
      "execution_count": null,
      "outputs": [
        {
          "output_type": "stream",
          "name": "stdout",
          "text": [
            "Budi\n",
            "Nama Anda adalah Budi\n"
          ]
        }
      ]
    },
    {
      "cell_type": "markdown",
      "source": [
        "Ketika *User* atau Pengguna memberi nilai melalui fungsi `input()`, tipe data dari nilai tersebut adalah *string*. Mari kita cek tipe data dari variabel 'nama_masukan_user'"
      ],
      "metadata": {
        "id": "5ViSh6Kx_w2I"
      }
    },
    {
      "cell_type": "code",
      "source": [
        "type(nama_masukan_user)"
      ],
      "metadata": {
        "colab": {
          "base_uri": "https://localhost:8080/"
        },
        "id": "StsibTVsAlE9",
        "outputId": "d8a62fcf-ae32-4a15-9835-af57edb870ad"
      },
      "execution_count": null,
      "outputs": [
        {
          "output_type": "execute_result",
          "data": {
            "text/plain": [
              "str"
            ]
          },
          "metadata": {},
          "execution_count": 9
        }
      ]
    },
    {
      "cell_type": "markdown",
      "source": [
        "## Memberi Nilai untuk Banyak Variabel Sekaligus"
      ],
      "metadata": {
        "id": "ph5PqqR-C2W9"
      }
    },
    {
      "cell_type": "code",
      "source": [
        "# Contoh Pemberian Nilai untuk Banyak Variabel Sekaligus dengan Nilai yang Berbeda\n",
        "nama, umur, jurusan = 'Sinubi', 21, 'Informatika'\n",
        "\n",
        "print('Saya adalah siswa jurusan ' + jurusan + ' yang bernama ' + nama +\n",
        "      ' dan berusia ' + str(umur) + ' tahun')"
      ],
      "metadata": {
        "colab": {
          "base_uri": "https://localhost:8080/"
        },
        "id": "BuDo5LZLC9Ir",
        "outputId": "50606c2e-d306-4f6e-a7c3-a026e6b2dd1f"
      },
      "execution_count": null,
      "outputs": [
        {
          "output_type": "stream",
          "name": "stdout",
          "text": [
            "Saya adalah siswa jurusan Informatika yang bernama Sinubi dan berusia 21 tahun\n"
          ]
        }
      ]
    },
    {
      "cell_type": "code",
      "source": [
        "# Contoh Pemberian Nilai untuk Banyak Variabel Sekaligus dengan Nilai yang Sama\n",
        "umur1 = umur2 = 21\n",
        "\n",
        "print(umur1)\n",
        "print(umur2)"
      ],
      "metadata": {
        "colab": {
          "base_uri": "https://localhost:8080/"
        },
        "id": "kU5B7COqDlUK",
        "outputId": "9c5d91f6-3e7b-4e8e-ceed-94893207c1f1"
      },
      "execution_count": null,
      "outputs": [
        {
          "output_type": "stream",
          "name": "stdout",
          "text": [
            "21\n",
            "21\n"
          ]
        }
      ]
    },
    {
      "cell_type": "markdown",
      "source": [
        "# Referensi Eksternal\n",
        "\n",
        "*   https://www.w3schools.com/python/python_variables.asp\n",
        "*   https://www.programiz.com/python-programming/variables-constants-literals\n",
        "\n"
      ],
      "metadata": {
        "id": "YOipg9AX3OST"
      }
    }
  ]
}
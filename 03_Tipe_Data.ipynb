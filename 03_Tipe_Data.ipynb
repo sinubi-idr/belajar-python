{
  "nbformat": 4,
  "nbformat_minor": 0,
  "metadata": {
    "colab": {
      "provenance": [],
      "toc_visible": true,
      "authorship_tag": "ABX9TyNlpYFmyn4jWJEQK78YWQw5"
    },
    "kernelspec": {
      "name": "python3",
      "display_name": "Python 3"
    },
    "language_info": {
      "name": "python"
    }
  },
  "cells": [
    {
      "cell_type": "markdown",
      "source": [
        "# **Belajar Python**\n",
        "\n",
        "03 - Tipe Data\n",
        "\n",
        "[![Open In Colab](https://colab.research.google.com/assets/colab-badge.svg)](https://colab.research.google.com/drive/10kORqm5RItreAXUZ3pqgaZX6T68V-g6b?usp=sharing)\n",
        "\n",
        "*Oleh : Sinubi*"
      ],
      "metadata": {
        "id": "R1D5WtIhI915"
      }
    },
    {
      "cell_type": "markdown",
      "source": [
        "## Tipe Data Python\n",
        "\n",
        "Variabel dapat dikatakan sebagai sebuah wadah untuk menampung nilai. Dalam hal ini, variabel memiliki tipe datanya tersendiri. Berikut tipe data bawaan pada Python."
      ],
      "metadata": {
        "id": "piwDQ8AbPbSd"
      }
    },
    {
      "cell_type": "markdown",
      "source": [
        "Kategori | Tipe Data\n",
        "--- | ---\n",
        "Tipe Teks  (*Text*) |\tstr\n",
        "Tipe Numerik (*Numeric*) |\tint, float, complex\n",
        "Tipe Urutan (*Sequence*) |\tlist, tuple, range\n",
        "Tipe Pemetaan (*Mapping*) |\tdict\n",
        "Tipe Himpunan (*Set*) |\tset, frozenset\n",
        "Tipe *Boolean* |\tbool\n",
        "Tipe Biner (*Binary*) |\tbytes, bytearray, memoryview\n",
        "Tipe Kosong (*None*) |\tNoneType"
      ],
      "metadata": {
        "id": "kvp1nCJYPzMU"
      }
    },
    {
      "cell_type": "markdown",
      "source": [
        "### Tipe Data Teks (*String*)\n",
        "\n",
        "Tipe Data `string` digunakan untuk menyimpan nilai berupa tulisan atau teks."
      ],
      "metadata": {
        "id": "cihUdwfpRM_8"
      }
    },
    {
      "cell_type": "code",
      "execution_count": null,
      "metadata": {
        "id": "AVpoE62lI8mX",
        "colab": {
          "base_uri": "https://localhost:8080/"
        },
        "outputId": "e4296bda-30a6-45f2-b0be-b076fa64a2a8"
      },
      "outputs": [
        {
          "output_type": "execute_result",
          "data": {
            "text/plain": [
              "str"
            ]
          },
          "metadata": {},
          "execution_count": 1
        }
      ],
      "source": [
        "# Membuat Variabel String dengan Tanda Petik Tunggal\n",
        "nama = 'Sinubi'\n",
        "\n",
        "print(nama)\n",
        "type(nama)"
      ]
    },
    {
      "cell_type": "code",
      "source": [
        "# Membuat Variabel String dengan Tanda Petik Ganda\n",
        "nama = \"Sinubi\"\n",
        "\n",
        "print(nama)\n",
        "type(nama)"
      ],
      "metadata": {
        "colab": {
          "base_uri": "https://localhost:8080/"
        },
        "id": "4Wp22jr7Rx5n",
        "outputId": "efe1442a-d8cd-4417-adda-d0a5153bf2d4"
      },
      "execution_count": null,
      "outputs": [
        {
          "output_type": "execute_result",
          "data": {
            "text/plain": [
              "str"
            ]
          },
          "metadata": {},
          "execution_count": 2
        }
      ]
    },
    {
      "cell_type": "markdown",
      "source": [
        "### Tipe Data Numerik (*Integer*)\n",
        "\n",
        "Tipe Data `int` digunakan untuk menyimpan nilai berupa bilangan bulat."
      ],
      "metadata": {
        "id": "PCcGHo8_SHjV"
      }
    },
    {
      "cell_type": "code",
      "source": [
        "# Membuat Variabel Integer\n",
        "bilangan = 20\n",
        "\n",
        "print(bilangan)\n",
        "type(bilangan)"
      ],
      "metadata": {
        "colab": {
          "base_uri": "https://localhost:8080/"
        },
        "id": "9oEFf7qcSsMd",
        "outputId": "6d5762c7-fdeb-4bcd-f0af-e3df1ada0738"
      },
      "execution_count": null,
      "outputs": [
        {
          "output_type": "stream",
          "name": "stdout",
          "text": [
            "20\n"
          ]
        },
        {
          "output_type": "execute_result",
          "data": {
            "text/plain": [
              "int"
            ]
          },
          "metadata": {},
          "execution_count": 3
        }
      ]
    },
    {
      "cell_type": "markdown",
      "source": [
        "### Tipe Data Numerik (*Float*)\n",
        "\n",
        "Tipe Data `float` digunakan untuk menyimpan nilai berupa bilangan riil."
      ],
      "metadata": {
        "id": "5e8E1DS_S7EA"
      }
    },
    {
      "cell_type": "code",
      "source": [
        "# Membuat Variabel Float\n",
        "bilangan = 17.35719\n",
        "\n",
        "print(bilangan)\n",
        "type(bilangan)"
      ],
      "metadata": {
        "colab": {
          "base_uri": "https://localhost:8080/"
        },
        "id": "n2y1j8_8WVk4",
        "outputId": "f6c4b6a4-a1b4-46d3-ed55-f7bd32daf7c2"
      },
      "execution_count": null,
      "outputs": [
        {
          "output_type": "stream",
          "name": "stdout",
          "text": [
            "17.35719\n"
          ]
        },
        {
          "output_type": "execute_result",
          "data": {
            "text/plain": [
              "float"
            ]
          },
          "metadata": {},
          "execution_count": 6
        }
      ]
    },
    {
      "cell_type": "code",
      "source": [
        "# Contoh Formatting Float (Cara 1)\n",
        "bilangan = 17.35719\n",
        "\n",
        "print(bilangan)\n",
        "print(\"%.1f\" % bilangan)\n",
        "print(\"%.2f\" % bilangan)\n",
        "print(\"%.3f\" % bilangan)\n",
        "print(\"%.4f\" % bilangan)"
      ],
      "metadata": {
        "colab": {
          "base_uri": "https://localhost:8080/"
        },
        "id": "KMfFN_lIY3cG",
        "outputId": "d2c35642-bdca-4a02-bd9d-e0268db40a24"
      },
      "execution_count": null,
      "outputs": [
        {
          "output_type": "stream",
          "name": "stdout",
          "text": [
            "17.35719\n",
            "17.4\n",
            "17.36\n",
            "17.357\n",
            "17.3572\n"
          ]
        }
      ]
    },
    {
      "cell_type": "code",
      "source": [
        "# Contoh Formatting Float (Cara 2)\n",
        "bilangan = 17.35719\n",
        "\n",
        "print(bilangan)\n",
        "print(\"{:.1f}\".format(bilangan))\n",
        "print(\"{:.2f}\".format(bilangan))\n",
        "print(\"{:.3f}\".format(bilangan))\n",
        "print(\"{:.4f}\".format(bilangan))"
      ],
      "metadata": {
        "colab": {
          "base_uri": "https://localhost:8080/"
        },
        "id": "csfVg5XWa-jB",
        "outputId": "0be2d2a3-680b-497f-893f-33ceef82e8e2"
      },
      "execution_count": null,
      "outputs": [
        {
          "output_type": "stream",
          "name": "stdout",
          "text": [
            "17.35719\n",
            "17.4\n",
            "17.36\n",
            "17.357\n",
            "17.3572\n"
          ]
        }
      ]
    },
    {
      "cell_type": "markdown",
      "source": [
        "### Tipe Data Numerik (Complex)\n",
        "\n",
        "Tipe Data `complex` digunakan untuk menyimpan nilai berupa bilangan kompleks."
      ],
      "metadata": {
        "id": "Qb5pMbtTX4co"
      }
    },
    {
      "cell_type": "code",
      "source": [
        "# Membuat Variabel Kompleks\n",
        "bilangan = 5.2 + 3.1j\n",
        "\n",
        "print(bilangan)\n",
        "type(bilangan)"
      ],
      "metadata": {
        "colab": {
          "base_uri": "https://localhost:8080/"
        },
        "id": "n2zUd_rZYxU2",
        "outputId": "5c2a131f-f73d-465b-8f44-372a4068225a"
      },
      "execution_count": null,
      "outputs": [
        {
          "output_type": "stream",
          "name": "stdout",
          "text": [
            "(5.2+3.1j)\n"
          ]
        },
        {
          "output_type": "execute_result",
          "data": {
            "text/plain": [
              "complex"
            ]
          },
          "metadata": {},
          "execution_count": 9
        }
      ]
    },
    {
      "cell_type": "code",
      "source": [
        "# Menampilkan Bagian Real\n",
        "bilangan = 5.2 + 3.1j\n",
        "\n",
        "print(bilangan.real)"
      ],
      "metadata": {
        "colab": {
          "base_uri": "https://localhost:8080/"
        },
        "id": "aT8tosW6Z0BC",
        "outputId": "3858eff1-0015-4d8b-f426-6563b01358e5"
      },
      "execution_count": null,
      "outputs": [
        {
          "output_type": "stream",
          "name": "stdout",
          "text": [
            "5.2\n"
          ]
        }
      ]
    },
    {
      "cell_type": "code",
      "source": [
        "# Menampilkan Bagian Imajiner\n",
        "bilangan = 5.2 + 3.1j\n",
        "\n",
        "print(bilangan.imag)"
      ],
      "metadata": {
        "colab": {
          "base_uri": "https://localhost:8080/"
        },
        "id": "nWZhZBDSaBT2",
        "outputId": "8f158263-aa99-4337-f243-0a31f8e65c9f"
      },
      "execution_count": null,
      "outputs": [
        {
          "output_type": "stream",
          "name": "stdout",
          "text": [
            "3.1\n"
          ]
        }
      ]
    },
    {
      "cell_type": "markdown",
      "source": [
        "### Tipe Data Urutan (List)\n"
      ],
      "metadata": {
        "id": "6QpMfgyebWDK"
      }
    },
    {
      "cell_type": "markdown",
      "source": [
        "Tipe Data `list` digunakan untuk menyimpan beberapa nilai ke dalam sebuah variabel."
      ],
      "metadata": {
        "id": "Q0nheSiIK_3Q"
      }
    },
    {
      "cell_type": "code",
      "source": [
        "# Membuat Variabel List (Contoh 1)\n",
        "\n",
        "makanan = ['bakso', 'nasi goreng', 'mie goreng', 'sate']\n",
        "\n",
        "print(makanan)\n",
        "type(makanan)"
      ],
      "metadata": {
        "colab": {
          "base_uri": "https://localhost:8080/"
        },
        "id": "OzJLwn_ILRUF",
        "outputId": "e6fabd3b-f826-4b1e-bb05-10c6fb98f3a7"
      },
      "execution_count": null,
      "outputs": [
        {
          "output_type": "stream",
          "name": "stdout",
          "text": [
            "['bakso', 'nasi goreng', 'mie goreng', 'sate']\n"
          ]
        },
        {
          "output_type": "execute_result",
          "data": {
            "text/plain": [
              "list"
            ]
          },
          "metadata": {},
          "execution_count": 9
        }
      ]
    },
    {
      "cell_type": "code",
      "source": [
        "# Membuat Variabel List (Contoh 2)\n",
        "\n",
        "nilai_siswa = [80, 72, 67, 90, 83, 78]\n",
        "\n",
        "print(nilai_siswa)\n",
        "type(nilai_siswa)"
      ],
      "metadata": {
        "colab": {
          "base_uri": "https://localhost:8080/"
        },
        "id": "is98NOiQLswe",
        "outputId": "4a41cca9-cf1f-4aa2-86bb-e7b8868681ba"
      },
      "execution_count": null,
      "outputs": [
        {
          "output_type": "stream",
          "name": "stdout",
          "text": [
            "[80, 72, 67, 90, 83, 78]\n"
          ]
        },
        {
          "output_type": "execute_result",
          "data": {
            "text/plain": [
              "list"
            ]
          },
          "metadata": {},
          "execution_count": 10
        }
      ]
    },
    {
      "cell_type": "code",
      "source": [
        "# Mengakses item pada List\n",
        "\n",
        "print(makanan[2])\n",
        "print(nilai_siswa[2])"
      ],
      "metadata": {
        "colab": {
          "base_uri": "https://localhost:8080/"
        },
        "id": "CD_kjBqlFQT0",
        "outputId": "251079ff-db14-487d-f4b9-07e3d7b4bf13"
      },
      "execution_count": null,
      "outputs": [
        {
          "output_type": "stream",
          "name": "stdout",
          "text": [
            "mie goreng\n",
            "67\n"
          ]
        }
      ]
    },
    {
      "cell_type": "markdown",
      "source": [
        "`list` dapat menampung nilai dengan tipe data berbeda."
      ],
      "metadata": {
        "id": "S7gakeEYL9Ni"
      }
    },
    {
      "cell_type": "code",
      "source": [
        "# Contoh List yang terdiri dari item dengan tipe data berbeda\n",
        "\n",
        "campur_sari = ['buku', 'pensil', 80, 5.7, 5.2 + 3.1j]\n",
        "\n",
        "print(campur_sari)\n",
        "type(campur_sari)"
      ],
      "metadata": {
        "colab": {
          "base_uri": "https://localhost:8080/"
        },
        "id": "aJmhhAiAMHI1",
        "outputId": "07d13b6a-f9d3-47b4-b12e-0bc5c16c0331"
      },
      "execution_count": null,
      "outputs": [
        {
          "output_type": "stream",
          "name": "stdout",
          "text": [
            "['buku', 'pensil', 80, 5.7, (5.2+3.1j)]\n"
          ]
        },
        {
          "output_type": "execute_result",
          "data": {
            "text/plain": [
              "list"
            ]
          },
          "metadata": {},
          "execution_count": 3
        }
      ]
    },
    {
      "cell_type": "markdown",
      "source": [
        "`list` merupakan tipe data yang 'mutable'. Artinya, *item* pada `list` dapat diganti nilainya tanpa mengalokasikan alamat baru pada memori."
      ],
      "metadata": {
        "id": "WohhGZ5ZMnjd"
      }
    },
    {
      "cell_type": "code",
      "source": [
        "# Ilustrasi \"Mutable\" untuk List\n",
        "\n",
        "mata_pelajaran = ['Matematika', 'Fisika', 'Kimia']\n",
        "\n",
        "print(mata_pelajaran)\n",
        "id(mata_pelajaran) # id objek (list) yang kita buat"
      ],
      "metadata": {
        "colab": {
          "base_uri": "https://localhost:8080/"
        },
        "id": "5U0u990HMZ2j",
        "outputId": "19ee17b4-1d94-4455-948d-c0a522c5ba7a"
      },
      "execution_count": null,
      "outputs": [
        {
          "output_type": "stream",
          "name": "stdout",
          "text": [
            "['Matematika', 'Fisika', 'Kimia']\n"
          ]
        },
        {
          "output_type": "execute_result",
          "data": {
            "text/plain": [
              "140379593164032"
            ]
          },
          "metadata": {},
          "execution_count": 7
        }
      ]
    },
    {
      "cell_type": "markdown",
      "source": [
        "Kita akan ganti salah satu nama mata pelajaran dan kita akan lihat apakah id dari objek (`list`) tersebut berubah atau tidak."
      ],
      "metadata": {
        "id": "DAF5YT54NhRM"
      }
    },
    {
      "cell_type": "code",
      "source": [
        "# Mengganti salah satu nama mata pelajaran\n",
        "\n",
        "mata_pelajaran[1] = 'Biologi'\n",
        "\n",
        "print(mata_pelajaran)\n",
        "id(mata_pelajaran) # id objek (list) yang kita buat"
      ],
      "metadata": {
        "colab": {
          "base_uri": "https://localhost:8080/"
        },
        "id": "roRw-knBNbsX",
        "outputId": "c81c7042-f387-4d39-a15c-eb5442df91a6"
      },
      "execution_count": null,
      "outputs": [
        {
          "output_type": "stream",
          "name": "stdout",
          "text": [
            "['Matematika', 'Biologi', 'Kimia']\n"
          ]
        },
        {
          "output_type": "execute_result",
          "data": {
            "text/plain": [
              "140379593164032"
            ]
          },
          "metadata": {},
          "execution_count": 8
        }
      ]
    },
    {
      "cell_type": "markdown",
      "source": [
        "Dapat kita lihat bahwa id dari objek `list` tersebut tidak berubah walaupun kita mengganti salah satu nama mata pelajaran yang ada."
      ],
      "metadata": {
        "id": "SLwdnrJNPtiI"
      }
    },
    {
      "cell_type": "markdown",
      "source": [
        "### Tipe Data Urutan (Tuple)"
      ],
      "metadata": {
        "id": "ZVUOQAPXQH9o"
      }
    },
    {
      "cell_type": "markdown",
      "source": [
        "Tipe Data `tuple` digunakan untuk menyimpan beberapa nilai ke dalam sebuah variabel. Berbeda dengan list, tipe data ini bersifat 'immutable'. Artinya, kita tidak dapat mengganti nilai pada variabel yang telah kita definisikan."
      ],
      "metadata": {
        "id": "WkU1ZL84Qc69"
      }
    },
    {
      "cell_type": "code",
      "source": [
        "# Membuat Variabel Tuple (Contoh 1)\n",
        "\n",
        "makanan = ('bakso', 'nasi goreng', 'mie goreng', 'sate')\n",
        "\n",
        "print(makanan)\n",
        "type(makanan)"
      ],
      "metadata": {
        "colab": {
          "base_uri": "https://localhost:8080/"
        },
        "id": "os8_aYfARccB",
        "outputId": "70c21c53-20ea-4870-8e87-d7da6d47aaa8"
      },
      "execution_count": null,
      "outputs": [
        {
          "output_type": "stream",
          "name": "stdout",
          "text": [
            "('bakso', 'nasi goreng', 'mie goreng', 'sate')\n"
          ]
        },
        {
          "output_type": "execute_result",
          "data": {
            "text/plain": [
              "tuple"
            ]
          },
          "metadata": {},
          "execution_count": 6
        }
      ]
    },
    {
      "cell_type": "code",
      "source": [
        "# Membuat Variabel Tuple (Contoh 2)\n",
        "\n",
        "nilai_siswa = (80, 72, 67, 90, 83, 78)\n",
        "\n",
        "print(nilai_siswa)\n",
        "type(nilai_siswa)"
      ],
      "metadata": {
        "colab": {
          "base_uri": "https://localhost:8080/"
        },
        "id": "yYa18t7oRkHb",
        "outputId": "d737cefe-9d93-44b8-c29f-b492479a9d4b"
      },
      "execution_count": null,
      "outputs": [
        {
          "output_type": "stream",
          "name": "stdout",
          "text": [
            "(80, 72, 67, 90, 83, 78)\n"
          ]
        },
        {
          "output_type": "execute_result",
          "data": {
            "text/plain": [
              "tuple"
            ]
          },
          "metadata": {},
          "execution_count": 7
        }
      ]
    },
    {
      "cell_type": "code",
      "source": [
        "# Mengakses item pada Tuple\n",
        "\n",
        "print(makanan[2])\n",
        "print(nilai_siswa[2])"
      ],
      "metadata": {
        "colab": {
          "base_uri": "https://localhost:8080/"
        },
        "id": "S7OVvqsSFBIs",
        "outputId": "ceaf9eeb-099a-4b17-ee6b-d046aaa94640"
      },
      "execution_count": null,
      "outputs": [
        {
          "output_type": "stream",
          "name": "stdout",
          "text": [
            "mie goreng\n",
            "67\n"
          ]
        }
      ]
    },
    {
      "cell_type": "markdown",
      "source": [
        "`tuple` dapat menampung nilai dengan tipe data berbeda."
      ],
      "metadata": {
        "id": "mTITAl6MRrOS"
      }
    },
    {
      "cell_type": "code",
      "source": [
        "# Contoh Tuple yang terdiri dari item dengan tipe data berbeda\n",
        "\n",
        "campur_sari = ('buku', 'pensil', 80, 5.7, 5.2 + 3.1j)\n",
        "\n",
        "print(campur_sari)\n",
        "type(campur_sari)"
      ],
      "metadata": {
        "colab": {
          "base_uri": "https://localhost:8080/"
        },
        "id": "FJXOG1zsRw91",
        "outputId": "0ea9170f-0669-4d91-fc4b-32341b7c3d50"
      },
      "execution_count": null,
      "outputs": [
        {
          "output_type": "stream",
          "name": "stdout",
          "text": [
            "('buku', 'pensil', 80, 5.7, (5.2+3.1j))\n"
          ]
        },
        {
          "output_type": "execute_result",
          "data": {
            "text/plain": [
              "tuple"
            ]
          },
          "metadata": {},
          "execution_count": 12
        }
      ]
    },
    {
      "cell_type": "markdown",
      "source": [
        "`tuple` merupakan tipe data yang 'immutable'. Artinya, *item* pada `tuple` tidak dapat diganti nilainya."
      ],
      "metadata": {
        "id": "Tuit9ThIR51X"
      }
    },
    {
      "cell_type": "code",
      "source": [
        "# Ilustrasi \"Immutable\" untuk Tuple\n",
        "\n",
        "mata_pelajaran = ('Matematika', 'Fisika', 'Kimia')\n",
        "\n",
        "print(mata_pelajaran)\n",
        "id(mata_pelajaran) # id objek (tuple) yang kita buat"
      ],
      "metadata": {
        "colab": {
          "base_uri": "https://localhost:8080/"
        },
        "id": "94_5vH59SIBK",
        "outputId": "e583f726-f325-46ea-de11-4864c444bf89"
      },
      "execution_count": null,
      "outputs": [
        {
          "output_type": "stream",
          "name": "stdout",
          "text": [
            "('Matematika', 'Fisika', 'Kimia')\n"
          ]
        },
        {
          "output_type": "execute_result",
          "data": {
            "text/plain": [
              "140379101249984"
            ]
          },
          "metadata": {},
          "execution_count": 13
        }
      ]
    },
    {
      "cell_type": "markdown",
      "source": [
        "Kita akan ganti salah satu nama mata pelajaran dari `tuple` tersebut."
      ],
      "metadata": {
        "id": "2fqor3W-SQTX"
      }
    },
    {
      "cell_type": "code",
      "source": [
        "# Mengganti salah satu nama mata pelajaran\n",
        "\n",
        "mata_pelajaran[1] = 'Biologi'\n",
        "\n",
        "print(mata_pelajaran)\n",
        "id(mata_pelajaran) # id objek (tuple) yang kita buat"
      ],
      "metadata": {
        "colab": {
          "base_uri": "https://localhost:8080/",
          "height": 245
        },
        "id": "RO7op0sWSjwa",
        "outputId": "fe153e9d-0ad1-406d-f1e5-383a1fae5437"
      },
      "execution_count": null,
      "outputs": [
        {
          "output_type": "error",
          "ename": "TypeError",
          "evalue": "ignored",
          "traceback": [
            "\u001b[0;31m---------------------------------------------------------------------------\u001b[0m",
            "\u001b[0;31mTypeError\u001b[0m                                 Traceback (most recent call last)",
            "\u001b[0;32m<ipython-input-14-f52e789f72a8>\u001b[0m in \u001b[0;36m<cell line: 3>\u001b[0;34m()\u001b[0m\n\u001b[1;32m      1\u001b[0m \u001b[0;31m# Mengganti salah satu nama mata pelajaran\u001b[0m\u001b[0;34m\u001b[0m\u001b[0;34m\u001b[0m\u001b[0m\n\u001b[1;32m      2\u001b[0m \u001b[0;34m\u001b[0m\u001b[0m\n\u001b[0;32m----> 3\u001b[0;31m \u001b[0mmata_pelajaran\u001b[0m\u001b[0;34m[\u001b[0m\u001b[0;36m1\u001b[0m\u001b[0;34m]\u001b[0m \u001b[0;34m=\u001b[0m \u001b[0;34m'Biologi'\u001b[0m\u001b[0;34m\u001b[0m\u001b[0;34m\u001b[0m\u001b[0m\n\u001b[0m\u001b[1;32m      4\u001b[0m \u001b[0;34m\u001b[0m\u001b[0m\n\u001b[1;32m      5\u001b[0m \u001b[0mprint\u001b[0m\u001b[0;34m(\u001b[0m\u001b[0mmata_pelajaran\u001b[0m\u001b[0;34m)\u001b[0m\u001b[0;34m\u001b[0m\u001b[0;34m\u001b[0m\u001b[0m\n",
            "\u001b[0;31mTypeError\u001b[0m: 'tuple' object does not support item assignment"
          ]
        }
      ]
    },
    {
      "cell_type": "markdown",
      "source": [
        "Pesan kesalahan atau *error* muncul ketika kita hendak mengganti salah satu nilai dari `tuple` yang telah kita definisikan."
      ],
      "metadata": {
        "id": "i2YPY0YaSrf4"
      }
    },
    {
      "cell_type": "markdown",
      "source": [
        "Kita tetap dapat mengganti nilai dari salah satu nama mata pelajaran dengan melakukan *assignment* ulang. Namun, hal ini akan membuat `tuple` baru sehingga objek `tuple` akan mendapatkan id yang baru."
      ],
      "metadata": {
        "id": "aU-E0mQVTqSe"
      }
    },
    {
      "cell_type": "code",
      "source": [
        "# Mengganti salah satu nama mata pelajaran\n",
        "\n",
        "mata_pelajaran = ('Matematika', 'Biologi', 'Kimia')\n",
        "\n",
        "print(mata_pelajaran)\n",
        "id(mata_pelajaran) # id objek (tuple) yang kita buat"
      ],
      "metadata": {
        "colab": {
          "base_uri": "https://localhost:8080/"
        },
        "id": "QwR20O0xUHta",
        "outputId": "2518e20c-aba5-4da6-fb41-4970a349e49a"
      },
      "execution_count": null,
      "outputs": [
        {
          "output_type": "stream",
          "name": "stdout",
          "text": [
            "('Matematika', 'Biologi', 'Kimia')\n"
          ]
        },
        {
          "output_type": "execute_result",
          "data": {
            "text/plain": [
              "140379594908160"
            ]
          },
          "metadata": {},
          "execution_count": 15
        }
      ]
    },
    {
      "cell_type": "markdown",
      "source": [
        "Dapat Anda lihat bahwa id dari objek `tuple` tersebut telah berubah."
      ],
      "metadata": {
        "id": "gDKYX9J7UP54"
      }
    },
    {
      "cell_type": "markdown",
      "source": [
        "### Tipe Data Pemetaan (*Dictionary*)"
      ],
      "metadata": {
        "id": "9b9iKP-qCInE"
      }
    },
    {
      "cell_type": "markdown",
      "source": [
        "Tipe Data `dict` digunakan untuk menyimpan nilai dengan pasangan kuncinya. Nilai pada *dictionary* dapat diakses melalui kunci atau *key*."
      ],
      "metadata": {
        "id": "HFBxb-35DIpo"
      }
    },
    {
      "cell_type": "code",
      "source": [
        "# Membuat Variabel Dictionary\n",
        "\n",
        "siswa = {'nama' : 'Sinubi',          # kunci 1 = 'nama', nilai 1 = 'Sinubi'\n",
        "         'umur' : 20,                # kunci 2 = 'umur', nilai 2 = 20\n",
        "         'jenis_kelamin' : 'pria'}   # kunci 3 = 'jenis_kelamin', nilai 3 = 'pria'\n",
        "\n",
        "print(siswa)\n",
        "type(siswa)"
      ],
      "metadata": {
        "colab": {
          "base_uri": "https://localhost:8080/"
        },
        "id": "VRsTw0PJCIv1",
        "outputId": "f1aa98ed-8d5a-4ced-fc35-9bade1515f78"
      },
      "execution_count": null,
      "outputs": [
        {
          "output_type": "stream",
          "name": "stdout",
          "text": [
            "{'nama': 'Sinubi', 'umur': 20, 'jenis_kelamin': 'pria'}\n"
          ]
        },
        {
          "output_type": "execute_result",
          "data": {
            "text/plain": [
              "dict"
            ]
          },
          "metadata": {},
          "execution_count": 4
        }
      ]
    },
    {
      "cell_type": "code",
      "source": [
        "# Mengakses nilai pada Dictionary menggunakan kunci yang sesuai\n",
        "\n",
        "print(siswa['nama'])\n",
        "print(siswa['umur'])\n",
        "print(siswa['jenis_kelamin'])"
      ],
      "metadata": {
        "colab": {
          "base_uri": "https://localhost:8080/"
        },
        "id": "aphBcBUKEdE6",
        "outputId": "7599fd6d-37c4-422c-87bf-ba98fb365ed5"
      },
      "execution_count": null,
      "outputs": [
        {
          "output_type": "stream",
          "name": "stdout",
          "text": [
            "Sinubi\n",
            "20\n",
            "pria\n"
          ]
        }
      ]
    },
    {
      "cell_type": "markdown",
      "source": [
        "Pada *Dictionary*, jangan menggunakan kunci atau *key* yang sama. Apabila hal ini terjadi, maka kunci dan nilai terakhirlah yang akan menjadi acuan."
      ],
      "metadata": {
        "id": "TYzXzbWeFn2b"
      }
    },
    {
      "cell_type": "code",
      "source": [
        "# Membuat Variabel Dictionary dengan 2 kunci yang sama\n",
        "\n",
        "siswa = {'nama' : 'Sinubi',          # kunci 1 = 'nama', nilai 1 = 'Sinubi'\n",
        "         'umur' : 20,                # kunci 2 = 'umur', nilai 2 = 20\n",
        "         'jenis_kelamin' : 'pria',   # kunci 3 = 'jenis_kelamin', nilai 3 = 'pria'\n",
        "         'umur' : 18}                # kunci umur sudah ada sebelumnya (tidak diperbolehkan !)\n",
        "\n",
        "print(siswa)\n",
        "type(siswa)"
      ],
      "metadata": {
        "colab": {
          "base_uri": "https://localhost:8080/"
        },
        "id": "jDUDwUkgFxXg",
        "outputId": "ede8e828-2d2c-4589-bcb9-abcf471945be"
      },
      "execution_count": null,
      "outputs": [
        {
          "output_type": "stream",
          "name": "stdout",
          "text": [
            "{'nama': 'Sinubi', 'umur': 18, 'jenis_kelamin': 'pria'}\n"
          ]
        },
        {
          "output_type": "execute_result",
          "data": {
            "text/plain": [
              "dict"
            ]
          },
          "metadata": {},
          "execution_count": 13
        }
      ]
    },
    {
      "cell_type": "markdown",
      "source": [
        "### Tipe Data Himpunan (*Set*)"
      ],
      "metadata": {
        "id": "Ky_5bRnfGtmt"
      }
    },
    {
      "cell_type": "markdown",
      "source": [
        "Tipe Data `set` digunakan untuk menyimpan beberapa nilai yang berbeda ke dalam sebuah variabel. Pada `set`, tidak diperkenankan menyimpan 2 *item* dengan nilai yang sama."
      ],
      "metadata": {
        "id": "YFgrYvT5JRAG"
      }
    },
    {
      "cell_type": "code",
      "source": [
        "# Membuat Variabel Set\n",
        "\n",
        "himpunan = {80, 77, 58, 21, 80, 38}\n",
        "\n",
        "print(himpunan)\n",
        "type(himpunan)"
      ],
      "metadata": {
        "colab": {
          "base_uri": "https://localhost:8080/"
        },
        "id": "f8rbktXhJytT",
        "outputId": "f259ea86-cad9-4efe-db57-cb7338954066"
      },
      "execution_count": null,
      "outputs": [
        {
          "output_type": "stream",
          "name": "stdout",
          "text": [
            "{80, 21, 38, 58, 77}\n"
          ]
        },
        {
          "output_type": "execute_result",
          "data": {
            "text/plain": [
              "set"
            ]
          },
          "metadata": {},
          "execution_count": 14
        }
      ]
    },
    {
      "cell_type": "markdown",
      "source": [
        "Perhatikan bahwa terdapat 2 *item* dengan nilai 80. Namun, hanya satu nilai 80 yang disimpan pada `set`."
      ],
      "metadata": {
        "id": "01EdrB7yKDoj"
      }
    },
    {
      "cell_type": "markdown",
      "source": [
        "### Tipe Data *Boolean* (*Bool*)"
      ],
      "metadata": {
        "id": "bjuLr--LKlQY"
      }
    },
    {
      "cell_type": "markdown",
      "source": [
        "Tipe Data `bool` digunakan untuk menyimpan salah satu dari kedua nilai berikut, yaitu *True* atau *False*."
      ],
      "metadata": {
        "id": "GiV_Ol2_Kr6-"
      }
    },
    {
      "cell_type": "code",
      "source": [
        "# Membuat Variabel Boolean (Contoh 1)\n",
        "\n",
        "lulus = True\n",
        "\n",
        "print(lulus)\n",
        "type(lulus)"
      ],
      "metadata": {
        "colab": {
          "base_uri": "https://localhost:8080/"
        },
        "id": "y2DaGZHXLDL7",
        "outputId": "7c053c78-585a-480e-e1d0-7fde949da7fe"
      },
      "execution_count": null,
      "outputs": [
        {
          "output_type": "stream",
          "name": "stdout",
          "text": [
            "True\n"
          ]
        },
        {
          "output_type": "execute_result",
          "data": {
            "text/plain": [
              "bool"
            ]
          },
          "metadata": {},
          "execution_count": 15
        }
      ]
    },
    {
      "cell_type": "code",
      "source": [
        "# Membuat Variabel Boolean (Contoh 2)\n",
        "\n",
        "lulus = False\n",
        "\n",
        "print(lulus)\n",
        "type(lulus)"
      ],
      "metadata": {
        "colab": {
          "base_uri": "https://localhost:8080/"
        },
        "id": "Z01xum-1LKOm",
        "outputId": "6b52b808-44c2-466b-e2dd-51d8065e7452"
      },
      "execution_count": null,
      "outputs": [
        {
          "output_type": "stream",
          "name": "stdout",
          "text": [
            "False\n"
          ]
        },
        {
          "output_type": "execute_result",
          "data": {
            "text/plain": [
              "bool"
            ]
          },
          "metadata": {},
          "execution_count": 16
        }
      ]
    },
    {
      "cell_type": "markdown",
      "source": [
        "### Tipe Data Biner (*Bytes*)"
      ],
      "metadata": {
        "id": "18vSkVtGPgKT"
      }
    },
    {
      "cell_type": "markdown",
      "source": [
        "Tipe Data `bytes` digunakan untuk menyimpan nilai dalam bentuk biner.\n"
      ],
      "metadata": {
        "id": "ThWnUYagPpD0"
      }
    },
    {
      "cell_type": "code",
      "source": [
        "# Membuat Variabel Bytes\n",
        "\n",
        "teks = b'halo'\n",
        "\n",
        "print(teks)\n",
        "type(teks)"
      ],
      "metadata": {
        "colab": {
          "base_uri": "https://localhost:8080/"
        },
        "id": "n8Aw3NbqPj00",
        "outputId": "320dc3e6-5453-4ce5-82a7-b1e501c5012f"
      },
      "execution_count": null,
      "outputs": [
        {
          "output_type": "stream",
          "name": "stdout",
          "text": [
            "b'halo'\n"
          ]
        },
        {
          "output_type": "execute_result",
          "data": {
            "text/plain": [
              "bytes"
            ]
          },
          "metadata": {},
          "execution_count": 18
        }
      ]
    },
    {
      "cell_type": "markdown",
      "source": [
        "Awalan 'b' didepan berfungsi untuk menyimpan *string* 'halo' ke dalam bentuk biner. Berikut adalah representasi ASCII (desimal) untuk *string* 'halo' yang sebelumnya kita simpan dalam bentuk biner."
      ],
      "metadata": {
        "id": "SeiL4txTP4BO"
      }
    },
    {
      "cell_type": "code",
      "source": [
        "# Menampilkan Representasi ASCII (Desimal)\n",
        "\n",
        "print(list(teks))"
      ],
      "metadata": {
        "colab": {
          "base_uri": "https://localhost:8080/"
        },
        "id": "nz2ZlTN1QN3T",
        "outputId": "cbe08f41-513b-4ab5-8921-a176e07fcd1f"
      },
      "execution_count": null,
      "outputs": [
        {
          "output_type": "stream",
          "name": "stdout",
          "text": [
            "[104, 97, 108, 111]\n"
          ]
        }
      ]
    },
    {
      "cell_type": "markdown",
      "source": [
        "### Tipe Data Kosong (*None*)"
      ],
      "metadata": {
        "id": "DJJP2TDjM5rR"
      }
    },
    {
      "cell_type": "markdown",
      "source": [
        "Tipe Data `none` digunakan untuk menyimpan nilai kosong atau nilai *Null*."
      ],
      "metadata": {
        "id": "8AmWn7qbNFpT"
      }
    },
    {
      "cell_type": "code",
      "source": [
        "# Membuat Variabel Kosong atau Null\n",
        "\n",
        "tanpa_nilai = None\n",
        "\n",
        "print(tanpa_nilai)\n",
        "type(tanpa_nilai)"
      ],
      "metadata": {
        "colab": {
          "base_uri": "https://localhost:8080/"
        },
        "id": "YT3hmXDINXrs",
        "outputId": "7d4ba86f-721c-4989-8143-bba1720f8028"
      },
      "execution_count": null,
      "outputs": [
        {
          "output_type": "stream",
          "name": "stdout",
          "text": [
            "None\n"
          ]
        },
        {
          "output_type": "execute_result",
          "data": {
            "text/plain": [
              "NoneType"
            ]
          },
          "metadata": {},
          "execution_count": 17
        }
      ]
    },
    {
      "cell_type": "markdown",
      "source": [
        "## Konversi Tipe Data"
      ],
      "metadata": {
        "id": "sPhYOW-20UVn"
      }
    },
    {
      "cell_type": "markdown",
      "source": [
        "### Konversi Tipe Data Implisit\n",
        "Konversi Tipe Data secara Implisit dilakukan oleh Python sendiri akibat suatu operasi yang terjadi."
      ],
      "metadata": {
        "id": "uWle4ppb06Kn"
      }
    },
    {
      "cell_type": "code",
      "source": [
        "# Contoh Konversi Tipe Data secara Implisit\n",
        "\n",
        "x = 5\n",
        "print(type(x))  # tipe data 'x' masih integer\n",
        "print(x)        # menampilkan nilai 'x' sebelum konversi tipe data\n",
        "\n",
        "x /= 2\n",
        "print(type(x))  # tipe data 'x' berubah menjadi float akibat operasi pembagian\n",
        "print(x)        # menampilkan nilai 'x' sesudah konversi tipe data"
      ],
      "metadata": {
        "colab": {
          "base_uri": "https://localhost:8080/"
        },
        "id": "GWDXUPra1YCC",
        "outputId": "0f8afa36-d457-43bd-90e4-aae6a41ac19c"
      },
      "execution_count": null,
      "outputs": [
        {
          "output_type": "stream",
          "name": "stdout",
          "text": [
            "<class 'int'>\n",
            "5\n",
            "<class 'float'>\n",
            "2.5\n"
          ]
        }
      ]
    },
    {
      "cell_type": "markdown",
      "source": [
        "Dapat kita lihat bahwa variabel 'x' awalnya bertipa `integer`. Kemudian tipe variabel 'x' berubah menjadi `float` akibat operasi pembagian yang dilakukan."
      ],
      "metadata": {
        "id": "xCTm_w1X11ts"
      }
    },
    {
      "cell_type": "markdown",
      "source": [
        "### Konversi Tipe Data Eksplisit\n",
        "Konversi Tipe Data secara Eksplisit merupakan konversi yang tertulis pada kode pemograman."
      ],
      "metadata": {
        "id": "tzUNpo9N2THu"
      }
    },
    {
      "cell_type": "markdown",
      "source": [
        "Fungsi | Keterangan | Contoh\n",
        "--- | --- | ---\n",
        "int() | Mengubah Tipe Data menjadi `Integer` | int(x)\n",
        "float() | Mengubah Tipe Data menjadi `Float` | float(x)\n",
        "str() | Mengubah Tipe Data menjadi `String` | str(x)"
      ],
      "metadata": {
        "id": "50sXgxG-3xBr"
      }
    },
    {
      "cell_type": "markdown",
      "source": [
        "#### Konversi Tipe Data ke `Integer`"
      ],
      "metadata": {
        "id": "dI4Iupcb4rsK"
      }
    },
    {
      "cell_type": "code",
      "source": [
        "# Contoh Konversi Tipe Data secara Eksplisit dari String ke Integer\n",
        "\n",
        "x = '3'\n",
        "print(type(x)) # tipe data 'x' adalah 'string'\n",
        "print(x)       # menampilkan nilai 'x' sebelum konversi tipe data\n",
        "\n",
        "x = int(x)     # konversi tipe data ke 'integer'\n",
        "print(type(x)) # tipe data 'x' berubah menjadi 'integer'\n",
        "print(x)       # menampilkan nilai 'x' sesudah konversi tipe data"
      ],
      "metadata": {
        "colab": {
          "base_uri": "https://localhost:8080/"
        },
        "id": "L1-YvAvV2sZ-",
        "outputId": "9cd6a5d9-87c3-4bbd-a984-c18eb0cac8e3"
      },
      "execution_count": null,
      "outputs": [
        {
          "output_type": "stream",
          "name": "stdout",
          "text": [
            "<class 'str'>\n",
            "3\n",
            "<class 'int'>\n",
            "3\n"
          ]
        }
      ]
    },
    {
      "cell_type": "code",
      "source": [
        "# Contoh Konversi Tipe Data secara Eksplisit dari Float ke Integer - Contoh 1\n",
        "\n",
        "x = 3.0\n",
        "print(type(x)) # tipe data 'x' adalah 'float'\n",
        "print(x)       # menampilkan nilai 'x' sebelum konversi tipe data\n",
        "\n",
        "x = int(x)     # konversi tipe data ke 'integer'\n",
        "print(type(x)) # tipe data 'x' berubah menjadi 'integer'\n",
        "print(x)       # menampilkan nilai 'x' sesudah konversi tipe data"
      ],
      "metadata": {
        "colab": {
          "base_uri": "https://localhost:8080/"
        },
        "id": "smFWth894FL3",
        "outputId": "455b23fe-e343-436e-f517-7ef775492090"
      },
      "execution_count": null,
      "outputs": [
        {
          "output_type": "stream",
          "name": "stdout",
          "text": [
            "<class 'float'>\n",
            "3.0\n",
            "<class 'int'>\n",
            "3\n"
          ]
        }
      ]
    },
    {
      "cell_type": "code",
      "source": [
        "# Contoh Konversi Tipe Data secara Eksplisit dari Float ke Integer - Contoh 2\n",
        "\n",
        "x = 3.5\n",
        "print(type(x)) # tipe data 'x' adalah 'float'\n",
        "print(x)       # menampilkan nilai 'x' sebelum konversi tipe data\n",
        "\n",
        "x = int(x)     # konversi tipe data ke 'integer'\n",
        "print(type(x)) # tipe data 'x' berubah menjadi 'integer'\n",
        "print(x)       # menampilkan nilai 'x' sesudah konversi tipe data"
      ],
      "metadata": {
        "colab": {
          "base_uri": "https://localhost:8080/"
        },
        "id": "_fQ8WE-84cpH",
        "outputId": "61caf1e2-d635-41c4-ef6f-cb302a2c3457"
      },
      "execution_count": null,
      "outputs": [
        {
          "output_type": "stream",
          "name": "stdout",
          "text": [
            "<class 'float'>\n",
            "3.5\n",
            "<class 'int'>\n",
            "3\n"
          ]
        }
      ]
    },
    {
      "cell_type": "code",
      "source": [
        "# Contoh Konversi Tipe Data secara Eksplisit dari Float ke Integer - Contoh 3\n",
        "\n",
        "x = 3.9\n",
        "print(type(x)) # tipe data 'x' adalah 'float'\n",
        "print(x)       # menampilkan nilai 'x' sebelum konversi tipe data\n",
        "\n",
        "x = int(x)     # konversi tipe data ke 'integer'\n",
        "print(type(x)) # tipe data 'x' berubah menjadi 'integer'\n",
        "print(x)       # menampilkan nilai 'x' sesudah konversi tipe data"
      ],
      "metadata": {
        "colab": {
          "base_uri": "https://localhost:8080/"
        },
        "id": "JD3hqAWv4fm_",
        "outputId": "55fd3e9f-8cac-4ada-f94d-c061bc3f3501"
      },
      "execution_count": null,
      "outputs": [
        {
          "output_type": "stream",
          "name": "stdout",
          "text": [
            "<class 'float'>\n",
            "3.9\n",
            "<class 'int'>\n",
            "3\n"
          ]
        }
      ]
    },
    {
      "cell_type": "markdown",
      "source": [
        "#### Konversi Tipe Data ke `Float`"
      ],
      "metadata": {
        "id": "POLBGB625PNk"
      }
    },
    {
      "cell_type": "code",
      "source": [
        "# Contoh Konversi Tipe Data secara Eksplisit dari String ke Float\n",
        "\n",
        "x = '3.7'\n",
        "print(type(x)) # tipe data 'x' adalah 'string'\n",
        "print(x)       # menampilkan nilai 'x' sebelum konversi tipe data\n",
        "\n",
        "x = float(x)   # konversi tipe data ke 'float'\n",
        "print(type(x)) # tipe data 'x' berubah menjadi 'float'\n",
        "print(x)       # menampilkan nilai 'x' sesudah konversi tipe data"
      ],
      "metadata": {
        "colab": {
          "base_uri": "https://localhost:8080/"
        },
        "id": "05GeMtkl5TCW",
        "outputId": "871fbe91-e8ff-43dc-dd34-96160b1bc67b"
      },
      "execution_count": null,
      "outputs": [
        {
          "output_type": "stream",
          "name": "stdout",
          "text": [
            "<class 'str'>\n",
            "3.7\n",
            "<class 'float'>\n",
            "3.7\n"
          ]
        }
      ]
    },
    {
      "cell_type": "code",
      "source": [
        "# Contoh Konversi Tipe Data secara Eksplisit dari Integer ke Float\n",
        "\n",
        "x = 3\n",
        "print(type(x)) # tipe data 'x' adalah 'integer'\n",
        "print(x)       # menampilkan nilai 'x' sebelum konversi tipe data\n",
        "\n",
        "x = float(x)   # konversi tipe data ke 'float'\n",
        "print(type(x)) # tipe data 'x' berubah menjadi 'float'\n",
        "print(x)       # menampilkan nilai 'x' sesudah konversi tipe data"
      ],
      "metadata": {
        "colab": {
          "base_uri": "https://localhost:8080/"
        },
        "id": "quKSuUIl5pG0",
        "outputId": "e1935387-989b-47ad-e7e9-4fa135f51b8c"
      },
      "execution_count": null,
      "outputs": [
        {
          "output_type": "stream",
          "name": "stdout",
          "text": [
            "<class 'int'>\n",
            "3\n",
            "<class 'float'>\n",
            "3.0\n"
          ]
        }
      ]
    },
    {
      "cell_type": "markdown",
      "source": [
        "#### Konversi Tipe Data ke `String`"
      ],
      "metadata": {
        "id": "pBx76x8o52lH"
      }
    },
    {
      "cell_type": "code",
      "source": [
        "# Contoh Konversi Tipe Data secara Eksplisit dari Integer ke String\n",
        "\n",
        "x = 3\n",
        "print(type(x)) # tipe data 'x' adalah 'integer'\n",
        "print(x)       # menampilkan nilai 'x' sebelum konversi tipe data\n",
        "\n",
        "x = str(x)   # konversi tipe data ke 'string'\n",
        "print(type(x)) # tipe data 'x' berubah menjadi 'string'\n",
        "print(x)       # menampilkan nilai 'x' sesudah konversi tipe data"
      ],
      "metadata": {
        "colab": {
          "base_uri": "https://localhost:8080/"
        },
        "id": "YnXjV_HL565V",
        "outputId": "ef838d61-e37e-4706-c479-e977e653d66a"
      },
      "execution_count": null,
      "outputs": [
        {
          "output_type": "stream",
          "name": "stdout",
          "text": [
            "<class 'int'>\n",
            "3\n",
            "<class 'str'>\n",
            "3\n"
          ]
        }
      ]
    },
    {
      "cell_type": "code",
      "source": [
        "# Contoh Konversi Tipe Data secara Eksplisit dari Float ke String\n",
        "\n",
        "x = 3.7\n",
        "print(type(x)) # tipe data 'x' adalah 'float'\n",
        "print(x)       # menampilkan nilai 'x' sebelum konversi tipe data\n",
        "\n",
        "x = str(x)   # konversi tipe data ke 'string'\n",
        "print(type(x)) # tipe data 'x' berubah menjadi 'string'\n",
        "print(x)       # menampilkan nilai 'x' sesudah konversi tipe data"
      ],
      "metadata": {
        "colab": {
          "base_uri": "https://localhost:8080/"
        },
        "id": "02x50E4F6DpR",
        "outputId": "272f2b59-6194-4acb-8511-9a88463e82fb"
      },
      "execution_count": null,
      "outputs": [
        {
          "output_type": "stream",
          "name": "stdout",
          "text": [
            "<class 'float'>\n",
            "3.7\n",
            "<class 'str'>\n",
            "3.7\n"
          ]
        }
      ]
    },
    {
      "cell_type": "markdown",
      "source": [
        "# Referensi Eksternal\n",
        "\n",
        "*   https://www.w3schools.com/python/python_datatypes.asp\n",
        "*   https://www.digitalocean.com/community/tutorials/python-data-types\n",
        "*   https://www.geeksforgeeks.org/python-data-types/\n",
        "*   https://www.programiz.com/python-programming/variables-datatypes\n",
        "*   https://realpython.com/python-data-types/\n",
        "\n",
        "*   https://www.w3schools.com/python/python_casting.asp\n",
        "*   https://www.programiz.com/python-programming/type-conversion-and-casting\n",
        "\n",
        "\n",
        "\n",
        "\n",
        "\n",
        "\n",
        "\n"
      ],
      "metadata": {
        "id": "SYZ4fIy7JI2s"
      }
    }
  ]
}
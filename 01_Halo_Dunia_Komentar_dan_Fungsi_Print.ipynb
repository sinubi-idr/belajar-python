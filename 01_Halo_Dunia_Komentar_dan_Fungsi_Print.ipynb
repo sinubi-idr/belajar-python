{
  "nbformat": 4,
  "nbformat_minor": 0,
  "metadata": {
    "colab": {
      "provenance": [],
      "toc_visible": true,
      "authorship_tag": "ABX9TyMthdi2DWCAuYpKG1pR+COA"
    },
    "kernelspec": {
      "name": "python3",
      "display_name": "Python 3"
    },
    "language_info": {
      "name": "python"
    }
  },
  "cells": [
    {
      "cell_type": "markdown",
      "source": [
        "# **Belajar Python**\n",
        "\n",
        "01 - Halo Dunia, Komentar dan Fungsi Print\n",
        "\n",
        "[![Open In Colab](https://colab.research.google.com/assets/colab-badge.svg)](https://colab.research.google.com/drive/1wFU7qZjMRU52UZ6kJ1fLfzRo6KIJt4Me?usp=sharing)\n",
        "\n",
        "*Oleh : Sinubi*"
      ],
      "metadata": {
        "id": "I2gop4f0qvG4"
      }
    },
    {
      "cell_type": "markdown",
      "source": [
        "## Halo Dunia !\n",
        "\n",
        "Pada pemograman Python, fungsi `print()` digunakan untuk menampilkan teks atau pesan."
      ],
      "metadata": {
        "id": "eG3VHt1MrQBc"
      }
    },
    {
      "cell_type": "code",
      "execution_count": 1,
      "metadata": {
        "colab": {
          "base_uri": "https://localhost:8080/"
        },
        "id": "dHPrvMf0pwGA",
        "outputId": "a9a328a5-2afc-4ce4-d1ad-bcb37fdc26ce"
      },
      "outputs": [
        {
          "output_type": "stream",
          "name": "stdout",
          "text": [
            "Halo Dunia !\n"
          ]
        }
      ],
      "source": [
        "print('Halo Dunia !')"
      ]
    },
    {
      "cell_type": "markdown",
      "source": [
        "## Komentar\n",
        "\n",
        "Komentar adalah teks yang tidak dieksekusi/dijalankan oleh interpreter Python. Komentar hanyalah teks biasa sebagai pesan. Biasanya programmer menggunakan komentar untuk menjelaskan kode program yang telah dibuat. Untuk menjadikan suatu teks menjadi sebuah komentar, gunakan tanda pagar '#'. Tulisan setelah tanda pagar akan dianggap sebagai komentar.\n",
        "\n",
        "Berbeda dengan Komentar, Kode adalah teks yang akan dieksekusi/dijalankan oleh interpreter Python."
      ],
      "metadata": {
        "id": "hapGoDQ2uIkO"
      }
    },
    {
      "cell_type": "code",
      "source": [
        "# Ini adalah Komentar"
      ],
      "metadata": {
        "id": "nYT2GRRKuzhY"
      },
      "execution_count": 2,
      "outputs": []
    },
    {
      "cell_type": "code",
      "source": [
        "print('Ini adalah Kode Program menggunakan fungsi print()')"
      ],
      "metadata": {
        "colab": {
          "base_uri": "https://localhost:8080/"
        },
        "id": "M3ADx9oKu40o",
        "outputId": "d2d4ba29-4ff7-43b3-f9ec-b10b45b2adc3"
      },
      "execution_count": 3,
      "outputs": [
        {
          "output_type": "stream",
          "name": "stdout",
          "text": [
            "Ini adalah Kode Program menggunakan fungsi print()\n"
          ]
        }
      ]
    },
    {
      "cell_type": "code",
      "source": [
        "print('Ini adalah Kode Program') # Sementara ini adalah Komentar"
      ],
      "metadata": {
        "colab": {
          "base_uri": "https://localhost:8080/"
        },
        "id": "tGjxxZlWvyvy",
        "outputId": "295591f4-a844-479d-f04a-19a04a7e9cf2"
      },
      "execution_count": 4,
      "outputs": [
        {
          "output_type": "stream",
          "name": "stdout",
          "text": [
            "Ini adalah Kode Program\n"
          ]
        }
      ]
    },
    {
      "cell_type": "markdown",
      "source": [
        "Pada contoh sebelumnya, telah diperlihatkan contoh komentar satu baris. Jadi, tanda pagar '#' hanya dapat menjadikan teks atau tulisan setelahnya menjadi komentar tapi hanya pada baris yang sama (atau satu baris saja).\n",
        "\n",
        "Komentar multi baris dapat dibuat dengan menjadikan teks atau tulisan komentar menjadi string. Jadi, Anda dapat membuat komentar multi baris dengan mengawali dan mengakhiri suatu teks dengan 3 buah petik tunggal atau 3 buah petik ganda."
      ],
      "metadata": {
        "id": "1wlSHZJ-vjTc"
      }
    },
    {
      "cell_type": "code",
      "source": [
        "# Ini adalah Komentar Satu Baris.\n",
        "Tulisan Baris Kedua ini bukan Komentar dan apabila dijalankan akan menghasilkan Error"
      ],
      "metadata": {
        "colab": {
          "base_uri": "https://localhost:8080/",
          "height": 141
        },
        "id": "DwsI_Uxqww8Y",
        "outputId": "017438a7-c8da-4f28-92ad-b020758454f8"
      },
      "execution_count": 5,
      "outputs": [
        {
          "output_type": "error",
          "ename": "SyntaxError",
          "evalue": "ignored",
          "traceback": [
            "\u001b[0;36m  File \u001b[0;32m\"<ipython-input-5-84187811d328>\"\u001b[0;36m, line \u001b[0;32m2\u001b[0m\n\u001b[0;31m    Tulisan Baris Kedua ini bukan Komentar dan apabila dijalankan akan menghasilkan Error\u001b[0m\n\u001b[0m            ^\u001b[0m\n\u001b[0;31mSyntaxError\u001b[0m\u001b[0;31m:\u001b[0m invalid syntax\n"
          ]
        }
      ]
    },
    {
      "cell_type": "code",
      "source": [
        "# Ini adalah Komentar Satu Baris."
      ],
      "metadata": {
        "id": "e3_jWk3fxFQF"
      },
      "execution_count": 6,
      "outputs": []
    },
    {
      "cell_type": "code",
      "source": [
        "'''Ini adalah Komentar Multi Baris.\n",
        "Baris Kedua ini juga merupakan Komentar.\n",
        "Begitu pula dengan Baris Ketiga ini.'''"
      ],
      "metadata": {
        "colab": {
          "base_uri": "https://localhost:8080/",
          "height": 52
        },
        "id": "oNQBu8SHw2Q_",
        "outputId": "ca577df9-6820-4091-8b46-17d48c0d2463"
      },
      "execution_count": 7,
      "outputs": [
        {
          "output_type": "execute_result",
          "data": {
            "text/plain": [
              "'Ini adalah Komentar Multi Baris.\\nBaris Kedua ini juga merupakan Komentar.\\nBegitu pula dengan Baris Ketiga ini.'"
            ],
            "application/vnd.google.colaboratory.intrinsic+json": {
              "type": "string"
            }
          },
          "metadata": {},
          "execution_count": 7
        }
      ]
    },
    {
      "cell_type": "code",
      "source": [
        "\"\"\"Ini adalah Komentar Multi Baris.\n",
        "Baris Kedua ini juga merupakan Komentar.\n",
        "Begitu pula dengan Baris Ketiga ini.\"\"\""
      ],
      "metadata": {
        "colab": {
          "base_uri": "https://localhost:8080/",
          "height": 52
        },
        "id": "8ILjZRxexR6v",
        "outputId": "22bb0435-9ba8-4d62-e26e-c6e571be953e"
      },
      "execution_count": 8,
      "outputs": [
        {
          "output_type": "execute_result",
          "data": {
            "text/plain": [
              "'Ini adalah Komentar Multi Baris.\\nBaris Kedua ini juga merupakan Komentar.\\nBegitu pula dengan Baris Ketiga ini.'"
            ],
            "application/vnd.google.colaboratory.intrinsic+json": {
              "type": "string"
            }
          },
          "metadata": {},
          "execution_count": 8
        }
      ]
    },
    {
      "cell_type": "markdown",
      "source": [
        "## Fungsi `print()`"
      ],
      "metadata": {
        "id": "lDM33WZ_rsUM"
      }
    },
    {
      "cell_type": "markdown",
      "source": [
        "Fungsi `print()` dapat digunakan untuk menampilkan teks atau pesan. Pesan teks yang ditampilkan dengan fungsi `print()` merupakan *string*. Anda dapat menggunakan petik tunggal ataupun petik ganda."
      ],
      "metadata": {
        "id": "S9kykVzRsOJ4"
      }
    },
    {
      "cell_type": "code",
      "source": [
        "# Contoh dengan petik tunggal\n",
        "print('Ini adalah pesan')"
      ],
      "metadata": {
        "colab": {
          "base_uri": "https://localhost:8080/"
        },
        "id": "BkEBIEQ8sJNn",
        "outputId": "7c4cf792-b5f8-4688-e629-1405f72cdff3"
      },
      "execution_count": 9,
      "outputs": [
        {
          "output_type": "stream",
          "name": "stdout",
          "text": [
            "Ini adalah pesan\n"
          ]
        }
      ]
    },
    {
      "cell_type": "code",
      "source": [
        "# Contoh dengan petik ganda\n",
        "print(\"Ini adalah pesan\")"
      ],
      "metadata": {
        "colab": {
          "base_uri": "https://localhost:8080/"
        },
        "id": "EKlHMYzLsu_z",
        "outputId": "b792faae-fbb0-4702-bc28-5d7fd63c0d8c"
      },
      "execution_count": 10,
      "outputs": [
        {
          "output_type": "stream",
          "name": "stdout",
          "text": [
            "Ini adalah pesan\n"
          ]
        }
      ]
    },
    {
      "cell_type": "markdown",
      "source": [
        "Sebelumnya, kita memanggil/menggunakan sebuah fungsi `print()` pada satu `cell`. Anda dapat memanggil/menggunakan lebih dari satu fungsi `print() `pada satu *cell* secara bersamaan."
      ],
      "metadata": {
        "id": "6LW2L1p1vM_b"
      }
    },
    {
      "cell_type": "code",
      "source": [
        "print('Ini adalah Pesan Pertama')\n",
        "print('Ini adalah Pesan Kedua')\n",
        "print('Ini adalah Pesan Ketiga')"
      ],
      "metadata": {
        "colab": {
          "base_uri": "https://localhost:8080/"
        },
        "id": "W0X9E_zevg9b",
        "outputId": "60bb0b75-6280-403d-ffa6-78fd741f4370"
      },
      "execution_count": 11,
      "outputs": [
        {
          "output_type": "stream",
          "name": "stdout",
          "text": [
            "Ini adalah Pesan Pertama\n",
            "Ini adalah Pesan Kedua\n",
            "Ini adalah Pesan Ketiga\n"
          ]
        }
      ]
    },
    {
      "cell_type": "markdown",
      "source": [
        "Anda dapat menampilkan beberapa pesan yang dipisahkan dengan koma menggunakan fungsi `print() `. Secara *default*, pesan akan dipisahkan dengan karakter spasi."
      ],
      "metadata": {
        "id": "Yc2AT27OtPj8"
      }
    },
    {
      "cell_type": "code",
      "source": [
        "print(\"Pesan 1\",\"Pesan 2\",\"Pesan 3\")"
      ],
      "metadata": {
        "colab": {
          "base_uri": "https://localhost:8080/"
        },
        "id": "kj2CLR-ItdGW",
        "outputId": "71c1935b-c8c0-40f3-ec51-125df63303fe"
      },
      "execution_count": 12,
      "outputs": [
        {
          "output_type": "stream",
          "name": "stdout",
          "text": [
            "Pesan 1 Pesan 2 Pesan 3\n"
          ]
        }
      ]
    },
    {
      "cell_type": "markdown",
      "source": [
        "Anda dapat mengubah karakter pemisah (*default* : spasi) dengan menggunakan argumen `sep = ''` ."
      ],
      "metadata": {
        "id": "GTemUfLFx20e"
      }
    },
    {
      "cell_type": "code",
      "source": [
        "# Karakter Pemisah berupsa Karakter Spasi\n",
        "print(\"Pesan 1\",\"Pesan 2\",\"Pesan 3\", sep = ' ')"
      ],
      "metadata": {
        "colab": {
          "base_uri": "https://localhost:8080/"
        },
        "id": "Ilk2Ts86yNaG",
        "outputId": "988b4113-0449-4d88-a98d-cbc646e7eb42"
      },
      "execution_count": 13,
      "outputs": [
        {
          "output_type": "stream",
          "name": "stdout",
          "text": [
            "Pesan 1 Pesan 2 Pesan 3\n"
          ]
        }
      ]
    },
    {
      "cell_type": "code",
      "source": [
        "# Karakter Pemisah berupsa Karakter Tanda Hubung\n",
        "print(\"Pesan 1\",\"Pesan 2\",\"Pesan 3\", sep = '-')"
      ],
      "metadata": {
        "colab": {
          "base_uri": "https://localhost:8080/"
        },
        "id": "gu8YSQlByVSq",
        "outputId": "746940e6-691c-419d-b325-f8f252bc0e41"
      },
      "execution_count": 14,
      "outputs": [
        {
          "output_type": "stream",
          "name": "stdout",
          "text": [
            "Pesan 1-Pesan 2-Pesan 3\n"
          ]
        }
      ]
    },
    {
      "cell_type": "markdown",
      "source": [
        "## Fungsi `print()` dengan Variabel\n",
        "\n",
        "Selain menampilkan pesan atau teks, fungsi `print()` juga dapat digunakan untuk menampilkan nilai dari suatu variabel."
      ],
      "metadata": {
        "id": "ur58lOtlt3UJ"
      }
    },
    {
      "cell_type": "code",
      "source": [
        "# Contoh Fungsi print() untuk menampilkan nilai variabel nama berupa string\n",
        "# Contoh Pertama dengan menggunakan operator '+'\n",
        "\n",
        "nama = 'Sinubi'\n",
        "print('Halo Dunia, Saya adalah ' + nama)"
      ],
      "metadata": {
        "colab": {
          "base_uri": "https://localhost:8080/"
        },
        "id": "59Rhg5HHt66o",
        "outputId": "a588bfd5-d703-4222-e5f9-2f8917ed26d7"
      },
      "execution_count": 15,
      "outputs": [
        {
          "output_type": "stream",
          "name": "stdout",
          "text": [
            "Halo Dunia, Saya adalah Sinubi\n"
          ]
        }
      ]
    },
    {
      "cell_type": "code",
      "source": [
        "# Contoh Fungsi print() untuk menampilkan nilai variabel nama berupa string\n",
        "# Contoh Pertama dengan menggunakan koma ','\n",
        "\n",
        "nama = 'Sinubi'\n",
        "\n",
        "print('Halo Dunia, Saya adalah', nama)"
      ],
      "metadata": {
        "colab": {
          "base_uri": "https://localhost:8080/"
        },
        "id": "o6qNRgy64woP",
        "outputId": "026a02eb-aba9-4876-c874-d9dce33c13c5"
      },
      "execution_count": 16,
      "outputs": [
        {
          "output_type": "stream",
          "name": "stdout",
          "text": [
            "Halo Dunia, Saya adalah Sinubi\n"
          ]
        }
      ]
    },
    {
      "cell_type": "markdown",
      "source": [
        "Selain dapat menambilkan nilai suatu variabel bertipe *string*, fungsi `print()` juga bisa menampilkan nilai variabel bertipe *integer* loh !\n",
        "Sebagai catatan, apabila fungsi `print()` digunakan untuk menampilkan nilai dari variabel bertipe *integer*, maka variabel tersebut harus dikonversi terlebih dahulu menjadi variabel bertipe *string* dengan menggunakan fungsi `str()`."
      ],
      "metadata": {
        "id": "8KhC0PLl5D-a"
      }
    },
    {
      "cell_type": "code",
      "source": [
        "# Contoh Fungsi print() untuk menampilkan nilai variabel umur berupa integer\n",
        "\n",
        "umur = 21\n",
        "\n",
        "print('Halo ! Saya Sinubi yang berumur ' + str(umur) + ' tahun')"
      ],
      "metadata": {
        "colab": {
          "base_uri": "https://localhost:8080/"
        },
        "id": "Zwh4tSAM5Zl7",
        "outputId": "0e36939b-877f-42c0-b615-7f2f97eda305"
      },
      "execution_count": 17,
      "outputs": [
        {
          "output_type": "stream",
          "name": "stdout",
          "text": [
            "Halo ! Saya Sinubi yang berumur 21 tahun\n"
          ]
        }
      ]
    },
    {
      "cell_type": "markdown",
      "source": [
        "## Referensi Eksternal\n",
        "\n",
        "*   https://www.w3schools.com/python/ref_func_print.asp\n",
        "*   https://realpython.com/python-print/#printing-with-style\n",
        "\n"
      ],
      "metadata": {
        "id": "7Fch0hdtxekd"
      }
    }
  ]
}
